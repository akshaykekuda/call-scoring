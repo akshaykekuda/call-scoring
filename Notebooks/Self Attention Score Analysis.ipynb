{
 "cells": [
  {
   "cell_type": "code",
   "execution_count": 61,
   "metadata": {},
   "outputs": [],
   "source": [
    "import torch\n",
    "import pandas as pd\n",
    "import pickle\n",
    "import pickle5 as pck5\n",
    "import numpy as np"
   ]
  },
  {
   "cell_type": "code",
   "execution_count": 36,
   "metadata": {},
   "outputs": [],
   "source": [
    "base_dir = \"/Users/akshaykekuda/Desktop/CSR-SA/attention_model/logs/cs_wo_fbck1/\""
   ]
  },
  {
   "cell_type": "code",
   "execution_count": 88,
   "metadata": {},
   "outputs": [],
   "source": [
    "f = open(base_dir+\"call_score_test.p\", \"rb\")\n",
    "test_df = pickle.load(f)"
   ]
  },
  {
   "cell_type": "code",
   "execution_count": 89,
   "metadata": {},
   "outputs": [],
   "source": [
    "trained_model = torch.load(base_dir+\"call_score.model\")"
   ]
  },
  {
   "cell_type": "code",
   "execution_count": 90,
   "metadata": {},
   "outputs": [
    {
     "data": {
      "text/plain": [
       "odict_keys(['encoder.word_self_attention.embedding.weight', 'encoder.word_self_attention.multihead_attn.in_proj_weight', 'encoder.word_self_attention.multihead_attn.in_proj_bias', 'encoder.word_self_attention.multihead_attn.out_proj.weight', 'encoder.word_self_attention.multihead_attn.out_proj.bias', 'encoder.word_self_attention.ffn.weight', 'encoder.word_self_attention.ffn.bias', 'encoder.word_self_attention.position_encoding.weight', 'encoder.sentence_self_attention.multihead_attn.in_proj_weight', 'encoder.sentence_self_attention.multihead_attn.in_proj_bias', 'encoder.sentence_self_attention.multihead_attn.out_proj.weight', 'encoder.sentence_self_attention.multihead_attn.out_proj.bias', 'encoder.sentence_self_attention.position_encoding.weight', 'fcn.fcn.0.weight', 'fcn.fcn.0.bias', 'fcn.fcn.3.weight', 'fcn.fcn.3.bias'])"
      ]
     },
     "execution_count": 90,
     "metadata": {},
     "output_type": "execute_result"
    }
   ],
   "source": [
    "trained_model.keys()"
   ]
  },
  {
   "cell_type": "code",
   "execution_count": 91,
   "metadata": {},
   "outputs": [],
   "source": [
    "Q = trained_model['encoder.word_self_attention.multihead_attn.in_proj_weight'][600:,:]"
   ]
  },
  {
   "cell_type": "code",
   "execution_count": 92,
   "metadata": {},
   "outputs": [],
   "source": [
    "test_df = test_df.set_index(\"id\")"
   ]
  },
  {
   "cell_type": "code",
   "execution_count": 93,
   "metadata": {},
   "outputs": [],
   "source": [
    "mat0 = test_df.loc['200148059040210116'].scores[0]\n",
    "mat1 = test_df.loc['200148059040210116'].scores[1]\n",
    "mat2 = test_df.loc['200148059040210116'].scores[2]\n",
    "mat3 = test_df.loc['200148059040210116'].scores[3]"
   ]
  },
  {
   "cell_type": "code",
   "execution_count": 96,
   "metadata": {},
   "outputs": [
    {
     "data": {
      "text/plain": [
       "array([0.81299204, 0.52371424, 0.71404237, 0.5434173 , 0.5964269 ,\n",
       "       0.59911877, 4.0979195 , 0.5582256 , 0.7918839 , 0.6221272 ,\n",
       "       0.88265204, 1.0890945 , 0.6430666 , 0.5320774 , 0.59841627,\n",
       "       1.0889642 , 0.52029574, 4.8695188 , 2.3498626 , 0.80211073,\n",
       "       0.55147773, 1.9667292 , 0.534805  , 0.56327164, 0.6847407 ,\n",
       "       0.46423647, 0.99376595, 0.62694556, 1.2797999 , 0.7657789 ,\n",
       "       2.317404  , 0.7652519 , 0.54187685, 0.5246058 , 0.71437263,\n",
       "       0.60742354, 1.508604  , 0.972866  , 0.56590396, 0.6047272 ,\n",
       "       1.0120773 , 1.3669994 , 1.6808071 , 0.7871011 , 1.0092082 ,\n",
       "       0.5366569 , 0.56870824, 0.7710872 , 4.2775426 , 0.76508725,\n",
       "       0.9723028 , 0.7709371 , 0.7513086 , 1.5885779 , 1.7333279 ,\n",
       "       0.9389839 , 0.7515035 , 0.81721634, 1.1404395 , 0.9541567 ,\n",
       "       0.73965025, 0.59448224, 0.6598275 , 1.2992767 , 0.6850939 ,\n",
       "       0.6689114 , 0.5025695 , 0.76414335, 0.644847  , 0.5070795 ,\n",
       "       0.58517534, 0.8618988 , 0.5929422 , 1.799148  , 0.6641955 ,\n",
       "       0.7658918 , 0.6803216 ], dtype=float32)"
      ]
     },
     "execution_count": 96,
     "metadata": {},
     "output_type": "execute_result"
    }
   ],
   "source": [
    "np.sum(mat2, axis=0)"
   ]
  },
  {
   "cell_type": "code",
   "execution_count": 98,
   "metadata": {},
   "outputs": [
    {
     "data": {
      "text/plain": [
       "torch.Size([300, 300])"
      ]
     },
     "execution_count": 98,
     "metadata": {},
     "output_type": "execute_result"
    }
   ],
   "source": [
    "Q.shape"
   ]
  },
  {
   "cell_type": "code",
   "execution_count": 80,
   "metadata": {},
   "outputs": [
    {
     "data": {
      "text/plain": [
       "array([[0.01297601, 0.01299775, 0.01299991, ..., 0.0130006 , 0.0129905 ,\n",
       "        0.01300366],\n",
       "       [0.01297658, 0.01299201, 0.0129999 , ..., 0.01299882, 0.01299941,\n",
       "        0.01302563],\n",
       "       [0.01297755, 0.01299266, 0.01299836, ..., 0.01299769, 0.01299544,\n",
       "        0.01301541],\n",
       "       ...,\n",
       "       [0.01297687, 0.01299268, 0.01299963, ..., 0.01299866, 0.01299737,\n",
       "        0.01302096],\n",
       "       [0.01297633, 0.01299828, 0.01300045, ..., 0.01300067, 0.01298878,\n",
       "        0.01300125],\n",
       "       [0.01298029, 0.01299488, 0.01299552, ..., 0.01299533, 0.01298457,\n",
       "        0.01298928]], dtype=float32)"
      ]
     },
     "execution_count": 80,
     "metadata": {},
     "output_type": "execute_result"
    }
   ],
   "source": [
    "mat2"
   ]
  },
  {
   "cell_type": "code",
   "execution_count": 87,
   "metadata": {},
   "outputs": [
    {
     "data": {
      "text/plain": [
       "array([[0.00918191, 0.0091876 , 0.00917581, ..., 0.00917759, 0.00916855,\n",
       "        0.00915593],\n",
       "       [0.00918177, 0.00918796, 0.00917498, ..., 0.00917753, 0.00916789,\n",
       "        0.00915586],\n",
       "       [0.00918196, 0.00918779, 0.00917561, ..., 0.00917738, 0.00916818,\n",
       "        0.0091557 ],\n",
       "       ...,\n",
       "       [0.00918173, 0.0091878 , 0.00917485, ..., 0.00917696, 0.00916767,\n",
       "        0.00915588],\n",
       "       [0.0091819 , 0.00918753, 0.00917598, ..., 0.00917749, 0.00916857,\n",
       "        0.00915609],\n",
       "       [0.00918183, 0.00918643, 0.00917664, ..., 0.00917679, 0.0091692 ,\n",
       "        0.00915651]], dtype=float32)"
      ]
     },
     "execution_count": 87,
     "metadata": {},
     "output_type": "execute_result"
    }
   ],
   "source": [
    "test_df.iloc[23].scores[0]"
   ]
  },
  {
   "cell_type": "code",
   "execution_count": 101,
   "metadata": {},
   "outputs": [
    {
     "data": {
      "text/plain": [
       "torch.Size([17242, 300])"
      ]
     },
     "execution_count": 101,
     "metadata": {},
     "output_type": "execute_result"
    }
   ],
   "source": [
    "trained_model['encoder.word_self_attention.embedding.weight'].shape"
   ]
  },
  {
   "cell_type": "code",
   "execution_count": 111,
   "metadata": {},
   "outputs": [],
   "source": [
    "import sys\n",
    "sys.path.append(\"/Users/akshaykekuda/Desktop/CSR-SA/attention_model\")"
   ]
  },
  {
   "cell_type": "code",
   "execution_count": 113,
   "metadata": {},
   "outputs": [
    {
     "data": {
      "text/plain": [
       "Pred Cross Selling                                                        1\n",
       "True Cross Selling                                                        0\n",
       "RawProba Cross Selling                                             0.959919\n",
       "text                      [thank you for calling safe auto my name is, i...\n",
       "scores                    [[[0.0061779567, 0.00847206, 0.002158852, 0.00...\n",
       "Name: 200148059040210116, dtype: object"
      ]
     },
     "execution_count": 113,
     "metadata": {},
     "output_type": "execute_result"
    }
   ],
   "source": [
    "test_df.loc['200148059040210116']"
   ]
  },
  {
   "cell_type": "code",
   "execution_count": null,
   "metadata": {},
   "outputs": [],
   "source": [
    "import "
   ]
  },
  {
   "cell_type": "code",
   "execution_count": null,
   "metadata": {},
   "outputs": [],
   "source": [
    "def prepare_inference_df(path_to_tscpt):\n",
    "    df = pd.DataFrame(columns=['id', 'file_name'])\n",
    "    for file in os.listdir(transcripts_dir):\n",
    "        if file.endswith('.txt'):\n",
    "            file_loc = transcripts_dir + file\n",
    "            id = re.split(\"_|-\", file)[1]"
   ]
  }
 ],
 "metadata": {
  "kernelspec": {
   "display_name": "m1_optim",
   "language": "python",
   "name": "m1_optim"
  },
  "language_info": {
   "codemirror_mode": {
    "name": "ipython",
    "version": 3
   },
   "file_extension": ".py",
   "mimetype": "text/x-python",
   "name": "python",
   "nbconvert_exporter": "python",
   "pygments_lexer": "ipython3",
   "version": "3.9.7"
  }
 },
 "nbformat": 4,
 "nbformat_minor": 4
}
