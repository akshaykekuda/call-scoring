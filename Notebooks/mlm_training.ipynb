{
 "cells": [
  {
   "cell_type": "code",
   "execution_count": 5,
   "metadata": {},
   "outputs": [],
   "source": [
    "from transformers import RobertaTokenizerFast, BertTokenizerFast, DistilBertTokenizerFast\n",
    "\n",
    "tokenizer = DistilBertTokenizerFast.from_pretrained('/mnt/transcriber/Call_Scoring/sa_tokenizer/', add_special_tokens=True)"
   ]
  },
  {
   "cell_type": "code",
   "execution_count": 6,
   "metadata": {},
   "outputs": [],
   "source": [
    "from transformers import DistilBertConfig\n",
    "\n",
    "config = DistilBertConfig(\n",
    "    vocab_size=tokenizer.vocab_size,\n",
    ")"
   ]
  },
  {
   "cell_type": "code",
   "execution_count": 7,
   "metadata": {},
   "outputs": [],
   "source": [
    "from transformers import DistilBertForMaskedLM\n",
    "model = DistilBertForMaskedLM(config=config)"
   ]
  },
  {
   "cell_type": "code",
   "execution_count": 8,
   "metadata": {},
   "outputs": [],
   "source": [
    "from torch.utils.data import Dataset, random_split\n",
    "class MLMDataSet(Dataset):\n",
    "    def __init__(self, paths, tokenizer):\n",
    "        self.sentences = []\n",
    "        for file in paths:\n",
    "            with open(file, 'r') as f:\n",
    "                sent = f.readlines()\n",
    "                self.sentences.extend([line.strip('\\n') for line in sent])\n",
    "        self.tokenizer = tokenizer\n",
    "    def __len__(self):\n",
    "        return len(self.sentences)\n",
    "    def __getitem__(self, idx):\n",
    "        return self.tokenizer(self.sentences[idx])"
   ]
  },
  {
   "cell_type": "code",
   "execution_count": 9,
   "metadata": {},
   "outputs": [],
   "source": [
    "import random\n",
    "random.seed(1000)\n",
    "from pathlib import Path\n",
    "paths = [str(x) for x in Path('/mnt/transcriber/Call_Scoring/transcriptions/csr_ch/train').glob(\"**/*.txt\")]\n",
    "mini_paths = random.sample(paths, 1000)\n",
    "mlm_ds = MLMDataSet(mini_paths, tokenizer)\n",
    "\n",
    "train_size = int(0.8 * len(mlm_ds))\n",
    "test_size = len(mlm_ds) - train_size\n",
    "train_dataset, dev_dataset = random_split(mlm_ds, [train_size, test_size])"
   ]
  },
  {
   "cell_type": "code",
   "execution_count": 11,
   "metadata": {},
   "outputs": [],
   "source": [
    "from transformers import DataCollatorForLanguageModeling\n",
    "\n",
    "data_collator = DataCollatorForLanguageModeling(\n",
    "    tokenizer=tokenizer, mlm=True, mlm_probability=0.15\n",
    ")"
   ]
  },
  {
   "cell_type": "code",
   "execution_count": 7,
   "metadata": {},
   "outputs": [],
   "source": [
    "from transformers import Trainer, TrainingArguments\n",
    "\n",
    "training_args = TrainingArguments(\n",
    "    output_dir=\"./mlm_test\",\n",
    "    overwrite_output_dir=True,\n",
    "    num_train_epochs=3,\n",
    "    per_device_train_batch_size=16,\n",
    "    per_device_eval_batch_size=16,\n",
    "    save_steps=500,\n",
    "    eval_steps=500, \n",
    "    save_total_limit=2,\n",
    "    prediction_loss_only=True,\n",
    "    do_train=True,\n",
    "    do_eval=True,\n",
    "    evaluation_strategy='steps'\n",
    ")\n",
    "\n",
    "trainer = Trainer(\n",
    "    model=model,\n",
    "    args=training_args,\n",
    "    data_collator=data_collator,\n",
    "    train_dataset=train_dataset,\n",
    "    eval_dataset = dev_dataset,\n",
    ")"
   ]
  },
  {
   "cell_type": "code",
   "execution_count": 8,
   "metadata": {},
   "outputs": [
    {
     "name": "stderr",
     "output_type": "stream",
     "text": [
      "/home/kekuak/miniconda3/envs/call_scoring/lib/python3.7/site-packages/transformers/optimization.py:309: FutureWarning: This implementation of AdamW is deprecated and will be removed in a future version. Use the PyTorch implementation torch.optim.AdamW instead, or set `no_deprecation_warning=True` to disable this warning\n",
      "  FutureWarning,\n",
      "***** Running training *****\n",
      "  Num examples = 59060\n",
      "  Num Epochs = 3\n",
      "  Instantaneous batch size per device = 16\n",
      "  Total train batch size (w. parallel, distributed & accumulation) = 16\n",
      "  Gradient Accumulation steps = 1\n",
      "  Total optimization steps = 11076\n"
     ]
    },
    {
     "data": {
      "text/html": [
       "\n",
       "    <div>\n",
       "      \n",
       "      <progress value='11076' max='11076' style='width:300px; height:20px; vertical-align: middle;'></progress>\n",
       "      [11076/11076 3:17:30, Epoch 3/3]\n",
       "    </div>\n",
       "    <table border=\"1\" class=\"dataframe\">\n",
       "  <thead>\n",
       " <tr style=\"text-align: left;\">\n",
       "      <th>Step</th>\n",
       "      <th>Training Loss</th>\n",
       "      <th>Validation Loss</th>\n",
       "    </tr>\n",
       "  </thead>\n",
       "  <tbody>\n",
       "    <tr>\n",
       "      <td>500</td>\n",
       "      <td>6.002600</td>\n",
       "      <td>5.384438</td>\n",
       "    </tr>\n",
       "    <tr>\n",
       "      <td>1000</td>\n",
       "      <td>5.195800</td>\n",
       "      <td>5.051957</td>\n",
       "    </tr>\n",
       "    <tr>\n",
       "      <td>1500</td>\n",
       "      <td>4.959600</td>\n",
       "      <td>4.814300</td>\n",
       "    </tr>\n",
       "    <tr>\n",
       "      <td>2000</td>\n",
       "      <td>4.633300</td>\n",
       "      <td>4.444946</td>\n",
       "    </tr>\n",
       "    <tr>\n",
       "      <td>2500</td>\n",
       "      <td>4.444900</td>\n",
       "      <td>4.241751</td>\n",
       "    </tr>\n",
       "    <tr>\n",
       "      <td>3000</td>\n",
       "      <td>4.207600</td>\n",
       "      <td>4.037235</td>\n",
       "    </tr>\n",
       "    <tr>\n",
       "      <td>3500</td>\n",
       "      <td>4.066400</td>\n",
       "      <td>3.882293</td>\n",
       "    </tr>\n",
       "    <tr>\n",
       "      <td>4000</td>\n",
       "      <td>3.885300</td>\n",
       "      <td>3.803676</td>\n",
       "    </tr>\n",
       "    <tr>\n",
       "      <td>4500</td>\n",
       "      <td>3.778000</td>\n",
       "      <td>3.701168</td>\n",
       "    </tr>\n",
       "    <tr>\n",
       "      <td>5000</td>\n",
       "      <td>3.683900</td>\n",
       "      <td>3.612546</td>\n",
       "    </tr>\n",
       "    <tr>\n",
       "      <td>5500</td>\n",
       "      <td>3.649900</td>\n",
       "      <td>3.527095</td>\n",
       "    </tr>\n",
       "    <tr>\n",
       "      <td>6000</td>\n",
       "      <td>3.561000</td>\n",
       "      <td>3.471169</td>\n",
       "    </tr>\n",
       "    <tr>\n",
       "      <td>6500</td>\n",
       "      <td>3.493900</td>\n",
       "      <td>3.428561</td>\n",
       "    </tr>\n",
       "    <tr>\n",
       "      <td>7000</td>\n",
       "      <td>3.487100</td>\n",
       "      <td>3.414745</td>\n",
       "    </tr>\n",
       "    <tr>\n",
       "      <td>7500</td>\n",
       "      <td>3.463100</td>\n",
       "      <td>3.335244</td>\n",
       "    </tr>\n",
       "    <tr>\n",
       "      <td>8000</td>\n",
       "      <td>3.319700</td>\n",
       "      <td>3.290402</td>\n",
       "    </tr>\n",
       "    <tr>\n",
       "      <td>8500</td>\n",
       "      <td>3.322400</td>\n",
       "      <td>3.261325</td>\n",
       "    </tr>\n",
       "    <tr>\n",
       "      <td>9000</td>\n",
       "      <td>3.297500</td>\n",
       "      <td>3.247602</td>\n",
       "    </tr>\n",
       "    <tr>\n",
       "      <td>9500</td>\n",
       "      <td>3.332900</td>\n",
       "      <td>3.230321</td>\n",
       "    </tr>\n",
       "    <tr>\n",
       "      <td>10000</td>\n",
       "      <td>3.266400</td>\n",
       "      <td>3.197293</td>\n",
       "    </tr>\n",
       "    <tr>\n",
       "      <td>10500</td>\n",
       "      <td>3.237200</td>\n",
       "      <td>3.172376</td>\n",
       "    </tr>\n",
       "    <tr>\n",
       "      <td>11000</td>\n",
       "      <td>3.171700</td>\n",
       "      <td>3.210105</td>\n",
       "    </tr>\n",
       "  </tbody>\n",
       "</table><p>"
      ],
      "text/plain": [
       "<IPython.core.display.HTML object>"
      ]
     },
     "metadata": {},
     "output_type": "display_data"
    },
    {
     "name": "stderr",
     "output_type": "stream",
     "text": [
      "***** Running Evaluation *****\n",
      "  Num examples = 14765\n",
      "  Batch size = 16\n",
      "Saving model checkpoint to ./mlm_test/checkpoint-500\n",
      "Configuration saved in ./mlm_test/checkpoint-500/config.json\n",
      "Model weights saved in ./mlm_test/checkpoint-500/pytorch_model.bin\n",
      "Deleting older checkpoint [mlm_test/checkpoint-3500] due to args.save_total_limit\n",
      "***** Running Evaluation *****\n",
      "  Num examples = 14765\n",
      "  Batch size = 16\n",
      "Saving model checkpoint to ./mlm_test/checkpoint-1000\n",
      "Configuration saved in ./mlm_test/checkpoint-1000/config.json\n",
      "Model weights saved in ./mlm_test/checkpoint-1000/pytorch_model.bin\n",
      "Deleting older checkpoint [mlm_test/checkpoint-4000] due to args.save_total_limit\n",
      "***** Running Evaluation *****\n",
      "  Num examples = 14765\n",
      "  Batch size = 16\n",
      "Saving model checkpoint to ./mlm_test/checkpoint-1500\n",
      "Configuration saved in ./mlm_test/checkpoint-1500/config.json\n",
      "Model weights saved in ./mlm_test/checkpoint-1500/pytorch_model.bin\n",
      "Deleting older checkpoint [mlm_test/checkpoint-500] due to args.save_total_limit\n",
      "***** Running Evaluation *****\n",
      "  Num examples = 14765\n",
      "  Batch size = 16\n",
      "Saving model checkpoint to ./mlm_test/checkpoint-2000\n",
      "Configuration saved in ./mlm_test/checkpoint-2000/config.json\n",
      "Model weights saved in ./mlm_test/checkpoint-2000/pytorch_model.bin\n",
      "Deleting older checkpoint [mlm_test/checkpoint-1000] due to args.save_total_limit\n",
      "***** Running Evaluation *****\n",
      "  Num examples = 14765\n",
      "  Batch size = 16\n",
      "Saving model checkpoint to ./mlm_test/checkpoint-2500\n",
      "Configuration saved in ./mlm_test/checkpoint-2500/config.json\n",
      "Model weights saved in ./mlm_test/checkpoint-2500/pytorch_model.bin\n",
      "Deleting older checkpoint [mlm_test/checkpoint-1500] due to args.save_total_limit\n",
      "***** Running Evaluation *****\n",
      "  Num examples = 14765\n",
      "  Batch size = 16\n",
      "Saving model checkpoint to ./mlm_test/checkpoint-3000\n",
      "Configuration saved in ./mlm_test/checkpoint-3000/config.json\n",
      "Model weights saved in ./mlm_test/checkpoint-3000/pytorch_model.bin\n",
      "Deleting older checkpoint [mlm_test/checkpoint-2000] due to args.save_total_limit\n",
      "***** Running Evaluation *****\n",
      "  Num examples = 14765\n",
      "  Batch size = 16\n",
      "Saving model checkpoint to ./mlm_test/checkpoint-3500\n",
      "Configuration saved in ./mlm_test/checkpoint-3500/config.json\n",
      "Model weights saved in ./mlm_test/checkpoint-3500/pytorch_model.bin\n",
      "Deleting older checkpoint [mlm_test/checkpoint-2500] due to args.save_total_limit\n",
      "***** Running Evaluation *****\n",
      "  Num examples = 14765\n",
      "  Batch size = 16\n",
      "Saving model checkpoint to ./mlm_test/checkpoint-4000\n",
      "Configuration saved in ./mlm_test/checkpoint-4000/config.json\n",
      "Model weights saved in ./mlm_test/checkpoint-4000/pytorch_model.bin\n",
      "Deleting older checkpoint [mlm_test/checkpoint-3000] due to args.save_total_limit\n",
      "***** Running Evaluation *****\n",
      "  Num examples = 14765\n",
      "  Batch size = 16\n",
      "Saving model checkpoint to ./mlm_test/checkpoint-4500\n",
      "Configuration saved in ./mlm_test/checkpoint-4500/config.json\n",
      "Model weights saved in ./mlm_test/checkpoint-4500/pytorch_model.bin\n",
      "Deleting older checkpoint [mlm_test/checkpoint-3500] due to args.save_total_limit\n",
      "***** Running Evaluation *****\n",
      "  Num examples = 14765\n",
      "  Batch size = 16\n",
      "Saving model checkpoint to ./mlm_test/checkpoint-5000\n",
      "Configuration saved in ./mlm_test/checkpoint-5000/config.json\n",
      "Model weights saved in ./mlm_test/checkpoint-5000/pytorch_model.bin\n",
      "Deleting older checkpoint [mlm_test/checkpoint-4000] due to args.save_total_limit\n",
      "***** Running Evaluation *****\n",
      "  Num examples = 14765\n",
      "  Batch size = 16\n",
      "Saving model checkpoint to ./mlm_test/checkpoint-5500\n",
      "Configuration saved in ./mlm_test/checkpoint-5500/config.json\n",
      "Model weights saved in ./mlm_test/checkpoint-5500/pytorch_model.bin\n",
      "Deleting older checkpoint [mlm_test/checkpoint-4500] due to args.save_total_limit\n",
      "***** Running Evaluation *****\n",
      "  Num examples = 14765\n",
      "  Batch size = 16\n",
      "Saving model checkpoint to ./mlm_test/checkpoint-6000\n",
      "Configuration saved in ./mlm_test/checkpoint-6000/config.json\n",
      "Model weights saved in ./mlm_test/checkpoint-6000/pytorch_model.bin\n",
      "Deleting older checkpoint [mlm_test/checkpoint-5000] due to args.save_total_limit\n",
      "***** Running Evaluation *****\n",
      "  Num examples = 14765\n",
      "  Batch size = 16\n",
      "Saving model checkpoint to ./mlm_test/checkpoint-6500\n",
      "Configuration saved in ./mlm_test/checkpoint-6500/config.json\n",
      "Model weights saved in ./mlm_test/checkpoint-6500/pytorch_model.bin\n",
      "Deleting older checkpoint [mlm_test/checkpoint-5500] due to args.save_total_limit\n",
      "***** Running Evaluation *****\n",
      "  Num examples = 14765\n",
      "  Batch size = 16\n",
      "Saving model checkpoint to ./mlm_test/checkpoint-7000\n",
      "Configuration saved in ./mlm_test/checkpoint-7000/config.json\n",
      "Model weights saved in ./mlm_test/checkpoint-7000/pytorch_model.bin\n",
      "Deleting older checkpoint [mlm_test/checkpoint-6000] due to args.save_total_limit\n",
      "***** Running Evaluation *****\n",
      "  Num examples = 14765\n",
      "  Batch size = 16\n",
      "Saving model checkpoint to ./mlm_test/checkpoint-7500\n",
      "Configuration saved in ./mlm_test/checkpoint-7500/config.json\n",
      "Model weights saved in ./mlm_test/checkpoint-7500/pytorch_model.bin\n",
      "Deleting older checkpoint [mlm_test/checkpoint-6500] due to args.save_total_limit\n",
      "***** Running Evaluation *****\n",
      "  Num examples = 14765\n",
      "  Batch size = 16\n",
      "Saving model checkpoint to ./mlm_test/checkpoint-8000\n",
      "Configuration saved in ./mlm_test/checkpoint-8000/config.json\n",
      "Model weights saved in ./mlm_test/checkpoint-8000/pytorch_model.bin\n",
      "Deleting older checkpoint [mlm_test/checkpoint-7000] due to args.save_total_limit\n",
      "***** Running Evaluation *****\n",
      "  Num examples = 14765\n",
      "  Batch size = 16\n",
      "Saving model checkpoint to ./mlm_test/checkpoint-8500\n",
      "Configuration saved in ./mlm_test/checkpoint-8500/config.json\n",
      "Model weights saved in ./mlm_test/checkpoint-8500/pytorch_model.bin\n",
      "Deleting older checkpoint [mlm_test/checkpoint-7500] due to args.save_total_limit\n",
      "***** Running Evaluation *****\n",
      "  Num examples = 14765\n",
      "  Batch size = 16\n",
      "Saving model checkpoint to ./mlm_test/checkpoint-9000\n",
      "Configuration saved in ./mlm_test/checkpoint-9000/config.json\n",
      "Model weights saved in ./mlm_test/checkpoint-9000/pytorch_model.bin\n",
      "Deleting older checkpoint [mlm_test/checkpoint-8000] due to args.save_total_limit\n",
      "***** Running Evaluation *****\n",
      "  Num examples = 14765\n",
      "  Batch size = 16\n",
      "Saving model checkpoint to ./mlm_test/checkpoint-9500\n",
      "Configuration saved in ./mlm_test/checkpoint-9500/config.json\n",
      "Model weights saved in ./mlm_test/checkpoint-9500/pytorch_model.bin\n",
      "Deleting older checkpoint [mlm_test/checkpoint-8500] due to args.save_total_limit\n",
      "***** Running Evaluation *****\n",
      "  Num examples = 14765\n",
      "  Batch size = 16\n",
      "Saving model checkpoint to ./mlm_test/checkpoint-10000\n",
      "Configuration saved in ./mlm_test/checkpoint-10000/config.json\n",
      "Model weights saved in ./mlm_test/checkpoint-10000/pytorch_model.bin\n",
      "Deleting older checkpoint [mlm_test/checkpoint-9000] due to args.save_total_limit\n",
      "***** Running Evaluation *****\n",
      "  Num examples = 14765\n",
      "  Batch size = 16\n",
      "Saving model checkpoint to ./mlm_test/checkpoint-10500\n",
      "Configuration saved in ./mlm_test/checkpoint-10500/config.json\n",
      "Model weights saved in ./mlm_test/checkpoint-10500/pytorch_model.bin\n",
      "Deleting older checkpoint [mlm_test/checkpoint-9500] due to args.save_total_limit\n",
      "***** Running Evaluation *****\n",
      "  Num examples = 14765\n",
      "  Batch size = 16\n",
      "Saving model checkpoint to ./mlm_test/checkpoint-11000\n",
      "Configuration saved in ./mlm_test/checkpoint-11000/config.json\n",
      "Model weights saved in ./mlm_test/checkpoint-11000/pytorch_model.bin\n",
      "Deleting older checkpoint [mlm_test/checkpoint-10000] due to args.save_total_limit\n",
      "\n",
      "\n",
      "Training completed. Do not forget to share your model on huggingface.co/models =)\n",
      "\n",
      "\n"
     ]
    },
    {
     "name": "stdout",
     "output_type": "stream",
     "text": [
      "CPU times: user 1d 10h 44min 23s, sys: 16h 59min 7s, total: 2d 3h 43min 31s\n",
      "Wall time: 3h 17min 32s\n"
     ]
    },
    {
     "data": {
      "text/plain": [
       "TrainOutput(global_step=11076, training_loss=3.8806873333932, metrics={'train_runtime': 11852.5587, 'train_samples_per_second': 14.949, 'train_steps_per_second': 0.934, 'total_flos': 1749275025814080.0, 'train_loss': 3.8806873333932, 'epoch': 3.0})"
      ]
     },
     "execution_count": 8,
     "metadata": {},
     "output_type": "execute_result"
    }
   ],
   "source": [
    "%%time\n",
    "trainer.train()"
   ]
  },
  {
   "cell_type": "code",
   "execution_count": 9,
   "metadata": {},
   "outputs": [
    {
     "name": "stderr",
     "output_type": "stream",
     "text": [
      "Saving model checkpoint to ./mlm_test\n",
      "Configuration saved in ./mlm_test/config.json\n",
      "Model weights saved in ./mlm_test/pytorch_model.bin\n"
     ]
    }
   ],
   "source": [
    "trainer.save_model(\"./mlm_test\")"
   ]
  },
  {
   "cell_type": "code",
   "execution_count": 10,
   "metadata": {},
   "outputs": [
    {
     "name": "stderr",
     "output_type": "stream",
     "text": [
      "loading configuration file ./mlm_test/config.json\n",
      "Model config DistilBertConfig {\n",
      "  \"_name_or_path\": \"./mlm_test\",\n",
      "  \"activation\": \"gelu\",\n",
      "  \"architectures\": [\n",
      "    \"DistilBertForMaskedLM\"\n",
      "  ],\n",
      "  \"attention_dropout\": 0.1,\n",
      "  \"dim\": 768,\n",
      "  \"dropout\": 0.1,\n",
      "  \"hidden_dim\": 3072,\n",
      "  \"initializer_range\": 0.02,\n",
      "  \"max_position_embeddings\": 512,\n",
      "  \"model_type\": \"distilbert\",\n",
      "  \"n_heads\": 12,\n",
      "  \"n_layers\": 6,\n",
      "  \"pad_token_id\": 0,\n",
      "  \"qa_dropout\": 0.1,\n",
      "  \"seq_classif_dropout\": 0.2,\n",
      "  \"sinusoidal_pos_embds\": false,\n",
      "  \"torch_dtype\": \"float32\",\n",
      "  \"transformers_version\": \"4.17.0\",\n",
      "  \"vocab_size\": 22044\n",
      "}\n",
      "\n",
      "loading configuration file ./mlm_test/config.json\n",
      "Model config DistilBertConfig {\n",
      "  \"_name_or_path\": \"./mlm_test\",\n",
      "  \"activation\": \"gelu\",\n",
      "  \"architectures\": [\n",
      "    \"DistilBertForMaskedLM\"\n",
      "  ],\n",
      "  \"attention_dropout\": 0.1,\n",
      "  \"dim\": 768,\n",
      "  \"dropout\": 0.1,\n",
      "  \"hidden_dim\": 3072,\n",
      "  \"initializer_range\": 0.02,\n",
      "  \"max_position_embeddings\": 512,\n",
      "  \"model_type\": \"distilbert\",\n",
      "  \"n_heads\": 12,\n",
      "  \"n_layers\": 6,\n",
      "  \"pad_token_id\": 0,\n",
      "  \"qa_dropout\": 0.1,\n",
      "  \"seq_classif_dropout\": 0.2,\n",
      "  \"sinusoidal_pos_embds\": false,\n",
      "  \"torch_dtype\": \"float32\",\n",
      "  \"transformers_version\": \"4.17.0\",\n",
      "  \"vocab_size\": 22044\n",
      "}\n",
      "\n",
      "loading weights file ./mlm_test/pytorch_model.bin\n",
      "All model checkpoint weights were used when initializing DistilBertForMaskedLM.\n",
      "\n",
      "All the weights of DistilBertForMaskedLM were initialized from the model checkpoint at ./mlm_test.\n",
      "If your task is similar to the task the model of the checkpoint was trained on, you can already use DistilBertForMaskedLM for predictions without further training.\n"
     ]
    }
   ],
   "source": [
    "from transformers import pipeline\n",
    "\n",
    "fill_mask = pipeline(\n",
    "    \"fill-mask\",\n",
    "    model=\"./mlm_test\",\n",
    "    tokenizer=tokenizer\n",
    ")"
   ]
  },
  {
   "cell_type": "code",
   "execution_count": 13,
   "metadata": {},
   "outputs": [
    {
     "data": {
      "text/plain": [
       "[{'score': 0.2619188129901886,\n",
       "  'token': 111,\n",
       "  'token_str': 'have',\n",
       "  'sequence': 'and may go ahead and get your data birth please have you have you previously been with safe auto in the past.'},\n",
       " {'score': 0.08725928515195847,\n",
       "  'token': 379,\n",
       "  'token_str': 'help',\n",
       "  'sequence': 'and may go ahead and get your data birth please help you have you previously been with safe auto in the past.'},\n",
       " {'score': 0.07615751028060913,\n",
       "  'token': 177,\n",
       "  'token_str': 'are',\n",
       "  'sequence': 'and may go ahead and get your data birth please are you have you previously been with safe auto in the past.'},\n",
       " {'score': 0.05747812241315842,\n",
       "  'token': 700,\n",
       "  'token_str': 'assist',\n",
       "  'sequence': 'and may go ahead and get your data birth please assist you have you previously been with safe auto in the past.'},\n",
       " {'score': 0.053029175847768784,\n",
       "  'token': 92,\n",
       "  'token_str': 'do',\n",
       "  'sequence': 'and may go ahead and get your data birth please do you have you previously been with safe auto in the past.'}]"
      ]
     },
     "execution_count": 13,
     "metadata": {},
     "output_type": "execute_result"
    }
   ],
   "source": [
    "str = \"And may go ahead and get your data birth please [MASK] you have you previously been with safe auto in the past.\"\n",
    "fill_mask(str)"
   ]
  },
  {
   "cell_type": "code",
   "execution_count": 2,
   "metadata": {},
   "outputs": [],
   "source": [
    "from transformers import AutoModel"
   ]
  },
  {
   "cell_type": "code",
   "execution_count": 3,
   "metadata": {},
   "outputs": [
    {
     "name": "stderr",
     "output_type": "stream",
     "text": [
      "Some weights of the model checkpoint at ./mlm_test were not used when initializing DistilBertModel: ['vocab_transform.bias', 'vocab_projector.bias', 'vocab_layer_norm.bias', 'vocab_layer_norm.weight', 'vocab_transform.weight', 'vocab_projector.weight']\n",
      "- This IS expected if you are initializing DistilBertModel from the checkpoint of a model trained on another task or with another architecture (e.g. initializing a BertForSequenceClassification model from a BertForPreTraining model).\n",
      "- This IS NOT expected if you are initializing DistilBertModel from the checkpoint of a model that you expect to be exactly identical (initializing a BertForSequenceClassification model from a BertForSequenceClassification model).\n"
     ]
    }
   ],
   "source": [
    "model = AutoModel.from_pretrained(\"./mlm_test\")"
   ]
  },
  {
   "cell_type": "code",
   "execution_count": 4,
   "metadata": {},
   "outputs": [
    {
     "ename": "AttributeError",
     "evalue": "'DistilBertModel' object has no attribute 'evaluate'",
     "output_type": "error",
     "traceback": [
      "\u001b[0;31m---------------------------------------------------------------------------\u001b[0m",
      "\u001b[0;31mAttributeError\u001b[0m                            Traceback (most recent call last)",
      "\u001b[0;32m<ipython-input-4-34717fd9598c>\u001b[0m in \u001b[0;36m<module>\u001b[0;34m\u001b[0m\n\u001b[0;32m----> 1\u001b[0;31m \u001b[0mmodel\u001b[0m\u001b[0;34m.\u001b[0m\u001b[0mevaluate\u001b[0m\u001b[0;34m(\u001b[0m\u001b[0;34m)\u001b[0m\u001b[0;34m\u001b[0m\u001b[0;34m\u001b[0m\u001b[0m\n\u001b[0m",
      "\u001b[0;32m~/anaconda3/envs/call_scoring/lib/python3.7/site-packages/torch/nn/modules/module.py\u001b[0m in \u001b[0;36m__getattr__\u001b[0;34m(self, name)\u001b[0m\n\u001b[1;32m   1176\u001b[0m                 \u001b[0;32mreturn\u001b[0m \u001b[0mmodules\u001b[0m\u001b[0;34m[\u001b[0m\u001b[0mname\u001b[0m\u001b[0;34m]\u001b[0m\u001b[0;34m\u001b[0m\u001b[0;34m\u001b[0m\u001b[0m\n\u001b[1;32m   1177\u001b[0m         raise AttributeError(\"'{}' object has no attribute '{}'\".format(\n\u001b[0;32m-> 1178\u001b[0;31m             type(self).__name__, name))\n\u001b[0m\u001b[1;32m   1179\u001b[0m \u001b[0;34m\u001b[0m\u001b[0m\n\u001b[1;32m   1180\u001b[0m     \u001b[0;32mdef\u001b[0m \u001b[0m__setattr__\u001b[0m\u001b[0;34m(\u001b[0m\u001b[0mself\u001b[0m\u001b[0;34m,\u001b[0m \u001b[0mname\u001b[0m\u001b[0;34m:\u001b[0m \u001b[0mstr\u001b[0m\u001b[0;34m,\u001b[0m \u001b[0mvalue\u001b[0m\u001b[0;34m:\u001b[0m \u001b[0mUnion\u001b[0m\u001b[0;34m[\u001b[0m\u001b[0mTensor\u001b[0m\u001b[0;34m,\u001b[0m \u001b[0;34m'Module'\u001b[0m\u001b[0;34m]\u001b[0m\u001b[0;34m)\u001b[0m \u001b[0;34m->\u001b[0m \u001b[0;32mNone\u001b[0m\u001b[0;34m:\u001b[0m\u001b[0;34m\u001b[0m\u001b[0;34m\u001b[0m\u001b[0m\n",
      "\u001b[0;31mAttributeError\u001b[0m: 'DistilBertModel' object has no attribute 'evaluate'"
     ]
    }
   ],
   "source": [
    "model.evaluate()"
   ]
  },
  {
   "cell_type": "code",
   "execution_count": 17,
   "metadata": {},
   "outputs": [
    {
     "name": "stderr",
     "output_type": "stream",
     "text": [
      "PyTorch: setting up devices\n",
      "The default value for the training argument `--report_to` will change in v5 (from all installed integrations to none). In v5, you will need to use `--report_to all` to get the same behavior as now. You should start updating your code and make this info disappear :-).\n"
     ]
    }
   ],
   "source": [
    "from transformers import Trainer, TrainingArguments\n",
    "\n",
    "paths = [str(x) for x in Path('/mnt/transcriber/Call_Scoring/transcriptions/csr_ch/test').glob(\"**/*.txt\")]\n",
    "mini_paths = random.sample(paths, 1000)\n",
    "mlm_ds = MLMDataSet(mini_paths, tokenizer)\n",
    "\n",
    "training_args = TrainingArguments(\n",
    "    output_dir=\"./mlm_test\",\n",
    "    overwrite_output_dir=True,\n",
    "    num_train_epochs=3,\n",
    "    per_device_train_batch_size=16,\n",
    "    per_device_eval_batch_size=16,\n",
    "    save_steps=500,\n",
    "    eval_steps=500, \n",
    "    save_total_limit=2,\n",
    "    prediction_loss_only=True,\n",
    "    do_train=False,\n",
    "    do_eval=True,\n",
    "    evaluation_strategy='steps'\n",
    ")\n",
    "\n",
    "trainer = Trainer(\n",
    "    model=model,\n",
    "    args=training_args,\n",
    "    data_collator=data_collator,\n",
    "    train_dataset=train_dataset,\n",
    "    eval_dataset = mlm_ds,\n",
    ")"
   ]
  },
  {
   "cell_type": "code",
   "execution_count": 16,
   "metadata": {},
   "outputs": [
    {
     "name": "stderr",
     "output_type": "stream",
     "text": [
      "***** Running Evaluation *****\n",
      "  Num examples = 7512\n",
      "  Batch size = 16\n"
     ]
    },
    {
     "data": {
      "text/html": [
       "\n",
       "    <div>\n",
       "      \n",
       "      <progress value='470' max='470' style='width:300px; height:20px; vertical-align: middle;'></progress>\n",
       "      [470/470 03:25]\n",
       "    </div>\n",
       "    "
      ],
      "text/plain": [
       "<IPython.core.display.HTML object>"
      ]
     },
     "metadata": {},
     "output_type": "display_data"
    },
    {
     "data": {
      "text/plain": [
       "{'eval_loss': 9.542838096618652,\n",
       " 'eval_runtime': 206.4027,\n",
       " 'eval_samples_per_second': 36.395,\n",
       " 'eval_steps_per_second': 2.277}"
      ]
     },
     "execution_count": 16,
     "metadata": {},
     "output_type": "execute_result"
    }
   ],
   "source": [
    "trainer.evaluate()"
   ]
  },
  {
   "cell_type": "code",
   "execution_count": null,
   "metadata": {},
   "outputs": [],
   "source": []
  }
 ],
 "metadata": {
  "interpreter": {
   "hash": "a523e54b3fdc39f34f323bdf80e9503aa756936cc284ccf7dd206c125ccb4b3d"
  },
  "kernelspec": {
   "display_name": "Python 3.7.11 ('call_scoring')",
   "language": "python",
   "name": "python3"
  },
  "language_info": {
   "codemirror_mode": {
    "name": "ipython",
    "version": 3
   },
   "file_extension": ".py",
   "mimetype": "text/x-python",
   "name": "python",
   "nbconvert_exporter": "python",
   "pygments_lexer": "ipython3",
   "version": "3.7.11"
  },
  "orig_nbformat": 4
 },
 "nbformat": 4,
 "nbformat_minor": 2
}
