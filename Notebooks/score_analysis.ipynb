{
 "cells": [
  {
   "cell_type": "code",
   "execution_count": 62,
   "metadata": {},
   "outputs": [],
   "source": [
    "import pandas as pd\n",
    "import numpy as np\n"
   ]
  },
  {
   "cell_type": "code",
   "execution_count": 63,
   "metadata": {},
   "outputs": [],
   "source": [
    "path  =\"/mnt/transcriber/Call_Scoring/logs/lstm/fold_0_call_score_test.p\"\n",
    "lstm_df = pd.read_pickle(path)\n",
    "lstm_df = lstm_df.set_index('id')\n",
    "id = '1001065574A0200611'\n",
    "sentence_imp = pd.DataFrame()\n",
    "pd.set_option('display.max_colwidth', None)\n",
    "sentence_imp['text']=lstm_df.loc[id, 'text']\n",
    "scores =  lstm_df.loc[id, 'scores']"
   ]
  },
  {
   "cell_type": "code",
   "execution_count": 64,
   "metadata": {},
   "outputs": [
    {
     "data": {
      "text/plain": [
       "(90,)"
      ]
     },
     "execution_count": 64,
     "metadata": {},
     "output_type": "execute_result"
    }
   ],
   "source": [
    "scores.shape"
   ]
  },
  {
   "cell_type": "code",
   "execution_count": 65,
   "metadata": {},
   "outputs": [
    {
     "data": {
      "text/html": [
       "<div>\n",
       "<style scoped>\n",
       "    .dataframe tbody tr th:only-of-type {\n",
       "        vertical-align: middle;\n",
       "    }\n",
       "\n",
       "    .dataframe tbody tr th {\n",
       "        vertical-align: top;\n",
       "    }\n",
       "\n",
       "    .dataframe thead th {\n",
       "        text-align: right;\n",
       "    }\n",
       "</style>\n",
       "<table border=\"1\" class=\"dataframe\">\n",
       "  <thead>\n",
       "    <tr style=\"text-align: right;\">\n",
       "      <th></th>\n",
       "      <th>text</th>\n",
       "      <th>scores</th>\n",
       "    </tr>\n",
       "  </thead>\n",
       "  <tbody>\n",
       "    <tr>\n",
       "      <th>23</th>\n",
       "      <td>cycles boats a t v selma go travel trailers we do healthcare as well as life insurance would you be interested in getting a quote for any kind recreational vehicles</td>\n",
       "      <td>0.027136</td>\n",
       "    </tr>\n",
       "    <tr>\n",
       "      <th>18</th>\n",
       "      <td>uh safe auto customer to she preferred pricing would you be interested in getting a quote printed condo renters insurance today no</td>\n",
       "      <td>0.026374</td>\n",
       "    </tr>\n",
       "    <tr>\n",
       "      <th>83</th>\n",
       "      <td>and we can also facts that immediate proof of coverage so please you know</td>\n",
       "      <td>0.026071</td>\n",
       "    </tr>\n",
       "    <tr>\n",
       "      <th>85</th>\n",
       "      <td>thank you for calling safe auto we look forward to earning your business madam and i hope you enjoy this beautiful day</td>\n",
       "      <td>0.025681</td>\n",
       "    </tr>\n",
       "    <tr>\n",
       "      <th>60</th>\n",
       "      <td>is a sable met site and also rental reimbursement its twenty dollars a day at max without a thirty days he all fads that actual death benefit is ten</td>\n",
       "      <td>0.025613</td>\n",
       "    </tr>\n",
       "    <tr>\n",
       "      <th>17</th>\n",
       "      <td>thank you does he own or rent there on mccall street okay just letting you know that we also offer renters insurance to millennium special insurance company</td>\n",
       "      <td>0.025282</td>\n",
       "    </tr>\n",
       "    <tr>\n",
       "      <th>86</th>\n",
       "      <td>thank you how thanks madam but bye</td>\n",
       "      <td>0.023919</td>\n",
       "    </tr>\n",
       "    <tr>\n",
       "      <th>59</th>\n",
       "      <td>for policy term man which is not available from the home or to their how much whenever he would be on the road to get him to safety or for work perform</td>\n",
       "      <td>0.023736</td>\n",
       "    </tr>\n",
       "    <tr>\n",
       "      <th>70</th>\n",
       "      <td>one of our representatives and we would be happy to help him to get to solve finished up</td>\n",
       "      <td>0.022353</td>\n",
       "    </tr>\n",
       "    <tr>\n",
       "      <th>62</th>\n",
       "      <td>but if he was to pass away it is direct result of the coverage auto accident with</td>\n",
       "      <td>0.020686</td>\n",
       "    </tr>\n",
       "    <tr>\n",
       "      <th>22</th>\n",
       "      <td>we also offer coverages on recreational vehicles from it</td>\n",
       "      <td>0.019678</td>\n",
       "    </tr>\n",
       "    <tr>\n",
       "      <th>61</th>\n",
       "      <td>and what you paid the spouse child parent they say it depends on the survivor having for</td>\n",
       "      <td>0.019530</td>\n",
       "    </tr>\n",
       "    <tr>\n",
       "      <th>84</th>\n",
       "      <td>okay sounds good sounds good it alright anything else i can help with today okay well</td>\n",
       "      <td>0.019137</td>\n",
       "    </tr>\n",
       "    <tr>\n",
       "      <th>69</th>\n",
       "      <td>madam if if they do not let him process a payment on line then he can do so if not just reach out</td>\n",
       "      <td>0.018621</td>\n",
       "    </tr>\n",
       "    <tr>\n",
       "      <th>72</th>\n",
       "      <td>wow just the same thing they have that you gave to me when you called me up</td>\n",
       "      <td>0.018612</td>\n",
       "    </tr>\n",
       "    <tr>\n",
       "      <th>71</th>\n",
       "      <td>claims this day</td>\n",
       "      <td>0.017752</td>\n",
       "    </tr>\n",
       "    <tr>\n",
       "      <th>64</th>\n",
       "      <td>um a monthly rate of two hundred and fifty four dollars</td>\n",
       "      <td>0.017135</td>\n",
       "    </tr>\n",
       "    <tr>\n",
       "      <th>19</th>\n",
       "      <td>now that is also they will up on her website just letting you know that i also quote for</td>\n",
       "      <td>0.017120</td>\n",
       "    </tr>\n",
       "    <tr>\n",
       "      <th>49</th>\n",
       "      <td>against unforeseen mechanical breakouts for things like transmission breaks suspension an air conditioning</td>\n",
       "      <td>0.016519</td>\n",
       "    </tr>\n",
       "    <tr>\n",
       "      <th>82</th>\n",
       "      <td>eight we do except visa mastercard</td>\n",
       "      <td>0.016494</td>\n",
       "    </tr>\n",
       "  </tbody>\n",
       "</table>\n",
       "</div>"
      ],
      "text/plain": [
       "                                                                                                                                                                    text  \\\n",
       "23  cycles boats a t v selma go travel trailers we do healthcare as well as life insurance would you be interested in getting a quote for any kind recreational vehicles   \n",
       "18                                    uh safe auto customer to she preferred pricing would you be interested in getting a quote printed condo renters insurance today no   \n",
       "83                                                                                             and we can also facts that immediate proof of coverage so please you know   \n",
       "85                                                thank you for calling safe auto we look forward to earning your business madam and i hope you enjoy this beautiful day   \n",
       "60                  is a sable met site and also rental reimbursement its twenty dollars a day at max without a thirty days he all fads that actual death benefit is ten   \n",
       "17          thank you does he own or rent there on mccall street okay just letting you know that we also offer renters insurance to millennium special insurance company   \n",
       "86                                                                                                                                    thank you how thanks madam but bye   \n",
       "59               for policy term man which is not available from the home or to their how much whenever he would be on the road to get him to safety or for work perform   \n",
       "70                                                                              one of our representatives and we would be happy to help him to get to solve finished up   \n",
       "62                                                                                     but if he was to pass away it is direct result of the coverage auto accident with   \n",
       "22                                                                                                              we also offer coverages on recreational vehicles from it   \n",
       "61                                                                              and what you paid the spouse child parent they say it depends on the survivor having for   \n",
       "84                                                                                 okay sounds good sounds good it alright anything else i can help with today okay well   \n",
       "69                                                                     madam if if they do not let him process a payment on line then he can do so if not just reach out   \n",
       "72                                                                                           wow just the same thing they have that you gave to me when you called me up   \n",
       "71                                                                                                                                                       claims this day   \n",
       "64                                                                                                               um a monthly rate of two hundred and fifty four dollars   \n",
       "19                                                                              now that is also they will up on her website just letting you know that i also quote for   \n",
       "49                                                            against unforeseen mechanical breakouts for things like transmission breaks suspension an air conditioning   \n",
       "82                                                                                                                                    eight we do except visa mastercard   \n",
       "\n",
       "      scores  \n",
       "23  0.027136  \n",
       "18  0.026374  \n",
       "83  0.026071  \n",
       "85  0.025681  \n",
       "60  0.025613  \n",
       "17  0.025282  \n",
       "86  0.023919  \n",
       "59  0.023736  \n",
       "70  0.022353  \n",
       "62  0.020686  \n",
       "22  0.019678  \n",
       "61  0.019530  \n",
       "84  0.019137  \n",
       "69  0.018621  \n",
       "72  0.018612  \n",
       "71  0.017752  \n",
       "64  0.017135  \n",
       "19  0.017120  \n",
       "49  0.016519  \n",
       "82  0.016494  "
      ]
     },
     "execution_count": 65,
     "metadata": {},
     "output_type": "execute_result"
    }
   ],
   "source": [
    "sentence_imp['scores'] = scores[1:]\n",
    "sentence_imp  = sentence_imp[(sentence_imp.text!=\"<pad>\")]\n",
    "sentence_imp.sort_values(by=\"scores\", ascending=False)[:20]"
   ]
  },
  {
   "cell_type": "code",
   "execution_count": 83,
   "metadata": {},
   "outputs": [],
   "source": [
    "path  =\"/mnt/transcriber/Call_Scoring/logs/hs2an/fold_0_call_score_test.p\"\n",
    "df = pd.read_pickle(path)\n",
    "df = df.set_index('id')\n",
    "id = '1001065574A0200611'\n",
    "sentence_imp = pd.DataFrame()\n",
    "pd.set_option('display.max_colwidth', None)\n",
    "sentence_imp['text']=df.loc[id, 'text']\n",
    "scores =  df.loc[id, 'scores']"
   ]
  },
  {
   "cell_type": "code",
   "execution_count": 84,
   "metadata": {},
   "outputs": [
    {
     "data": {
      "text/plain": [
       "(89,)"
      ]
     },
     "execution_count": 84,
     "metadata": {},
     "output_type": "execute_result"
    }
   ],
   "source": [
    "scores[0, 1:, 0].shape"
   ]
  },
  {
   "cell_type": "code",
   "execution_count": 85,
   "metadata": {},
   "outputs": [
    {
     "data": {
      "text/html": [
       "<div>\n",
       "<style scoped>\n",
       "    .dataframe tbody tr th:only-of-type {\n",
       "        vertical-align: middle;\n",
       "    }\n",
       "\n",
       "    .dataframe tbody tr th {\n",
       "        vertical-align: top;\n",
       "    }\n",
       "\n",
       "    .dataframe thead th {\n",
       "        text-align: right;\n",
       "    }\n",
       "</style>\n",
       "<table border=\"1\" class=\"dataframe\">\n",
       "  <thead>\n",
       "    <tr style=\"text-align: right;\">\n",
       "      <th></th>\n",
       "      <th>text</th>\n",
       "      <th>scores</th>\n",
       "    </tr>\n",
       "  </thead>\n",
       "  <tbody>\n",
       "    <tr>\n",
       "      <th>0</th>\n",
       "      <td>good morning thank you for calling safe auto my name is vicky can i interest and free quote today</td>\n",
       "      <td>0.076951</td>\n",
       "    </tr>\n",
       "    <tr>\n",
       "      <th>22</th>\n",
       "      <td>we also offer coverages on recreational vehicles from it</td>\n",
       "      <td>0.061379</td>\n",
       "    </tr>\n",
       "    <tr>\n",
       "      <th>10</th>\n",
       "      <td>okay alright thank you so tori oh as you say he has been insured for the last six months with no more than a thirty day break in coverage okay then may</td>\n",
       "      <td>0.049654</td>\n",
       "    </tr>\n",
       "    <tr>\n",
       "      <th>18</th>\n",
       "      <td>uh safe auto customer to she preferred pricing would you be interested in getting a quote printed condo renters insurance today no</td>\n",
       "      <td>0.037812</td>\n",
       "    </tr>\n",
       "    <tr>\n",
       "      <th>12</th>\n",
       "      <td>to have a copy of uh declaration page otherwise that discount would be vermouth what you because his right to be affected um so just make sure that he is smith set please</td>\n",
       "      <td>0.036281</td>\n",
       "    </tr>\n",
       "    <tr>\n",
       "      <th>17</th>\n",
       "      <td>thank you does he own or rent there on mccall street okay just letting you know that we also offer renters insurance to millennium special insurance company</td>\n",
       "      <td>0.026584</td>\n",
       "    </tr>\n",
       "    <tr>\n",
       "      <th>85</th>\n",
       "      <td>thank you for calling safe auto we look forward to earning your business madam and i hope you enjoy this beautiful day</td>\n",
       "      <td>0.026235</td>\n",
       "    </tr>\n",
       "    <tr>\n",
       "      <th>70</th>\n",
       "      <td>one of our representatives and we would be happy to help him to get to solve finished up</td>\n",
       "      <td>0.025410</td>\n",
       "    </tr>\n",
       "    <tr>\n",
       "      <th>15</th>\n",
       "      <td>i greatly appreciate you verify that for me and his address where he resides at please</td>\n",
       "      <td>0.024204</td>\n",
       "    </tr>\n",
       "    <tr>\n",
       "      <th>26</th>\n",
       "      <td>yes madam thank you and tori is marital status fuzzy married or single</td>\n",
       "      <td>0.022770</td>\n",
       "    </tr>\n",
       "    <tr>\n",
       "      <th>36</th>\n",
       "      <td>thank you madam i you know if hes required to carry a certified s r twenty two policy in any state</td>\n",
       "      <td>0.019740</td>\n",
       "    </tr>\n",
       "    <tr>\n",
       "      <th>40</th>\n",
       "      <td>okay thank you we always sort of the motor vehicle report after the policies purchased just letting you know in case anything is just</td>\n",
       "      <td>0.019104</td>\n",
       "    </tr>\n",
       "    <tr>\n",
       "      <th>34</th>\n",
       "      <td>does he travel out of state more than once a month or twelve times a year</td>\n",
       "      <td>0.017459</td>\n",
       "    </tr>\n",
       "    <tr>\n",
       "      <th>14</th>\n",
       "      <td>eight need feed l y over humid sucks</td>\n",
       "      <td>0.016553</td>\n",
       "    </tr>\n",
       "    <tr>\n",
       "      <th>72</th>\n",
       "      <td>wow just the same thing they have that you gave to me when you called me up</td>\n",
       "      <td>0.015133</td>\n",
       "    </tr>\n",
       "    <tr>\n",
       "      <th>24</th>\n",
       "      <td>no okay i appreciate that thank you alright and occurrence on number please</td>\n",
       "      <td>0.014946</td>\n",
       "    </tr>\n",
       "    <tr>\n",
       "      <th>8</th>\n",
       "      <td>okay now is this quote for you or for someone else because its year listed gender as listed as a male</td>\n",
       "      <td>0.014632</td>\n",
       "    </tr>\n",
       "    <tr>\n",
       "      <th>35</th>\n",
       "      <td>how old was he when he got his drivers license place for the very first time</td>\n",
       "      <td>0.014484</td>\n",
       "    </tr>\n",
       "    <tr>\n",
       "      <th>5</th>\n",
       "      <td>and your first and last name</td>\n",
       "      <td>0.014393</td>\n",
       "    </tr>\n",
       "    <tr>\n",
       "      <th>66</th>\n",
       "      <td>should be three eight or twenty one dollars there is is seventy seven dollar rewrite balance on the</td>\n",
       "      <td>0.014329</td>\n",
       "    </tr>\n",
       "  </tbody>\n",
       "</table>\n",
       "</div>"
      ],
      "text/plain": [
       "                                                                                                                                                                          text  \\\n",
       "0                                                                            good morning thank you for calling safe auto my name is vicky can i interest and free quote today   \n",
       "22                                                                                                                    we also offer coverages on recreational vehicles from it   \n",
       "10                     okay alright thank you so tori oh as you say he has been insured for the last six months with no more than a thirty day break in coverage okay then may   \n",
       "18                                          uh safe auto customer to she preferred pricing would you be interested in getting a quote printed condo renters insurance today no   \n",
       "12  to have a copy of uh declaration page otherwise that discount would be vermouth what you because his right to be affected um so just make sure that he is smith set please   \n",
       "17                thank you does he own or rent there on mccall street okay just letting you know that we also offer renters insurance to millennium special insurance company   \n",
       "85                                                      thank you for calling safe auto we look forward to earning your business madam and i hope you enjoy this beautiful day   \n",
       "70                                                                                    one of our representatives and we would be happy to help him to get to solve finished up   \n",
       "15                                                                                      i greatly appreciate you verify that for me and his address where he resides at please   \n",
       "26                                                                                                      yes madam thank you and tori is marital status fuzzy married or single   \n",
       "36                                                                          thank you madam i you know if hes required to carry a certified s r twenty two policy in any state   \n",
       "40                                       okay thank you we always sort of the motor vehicle report after the policies purchased just letting you know in case anything is just   \n",
       "34                                                                                                   does he travel out of state more than once a month or twelve times a year   \n",
       "14                                                                                                                                        eight need feed l y over humid sucks   \n",
       "72                                                                                                 wow just the same thing they have that you gave to me when you called me up   \n",
       "24                                                                                                 no okay i appreciate that thank you alright and occurrence on number please   \n",
       "8                                                                        okay now is this quote for you or for someone else because its year listed gender as listed as a male   \n",
       "35                                                                                                how old was he when he got his drivers license place for the very first time   \n",
       "5                                                                                                                                                 and your first and last name   \n",
       "66                                                                         should be three eight or twenty one dollars there is is seventy seven dollar rewrite balance on the   \n",
       "\n",
       "      scores  \n",
       "0   0.076951  \n",
       "22  0.061379  \n",
       "10  0.049654  \n",
       "18  0.037812  \n",
       "12  0.036281  \n",
       "17  0.026584  \n",
       "85  0.026235  \n",
       "70  0.025410  \n",
       "15  0.024204  \n",
       "26  0.022770  \n",
       "36  0.019740  \n",
       "40  0.019104  \n",
       "34  0.017459  \n",
       "14  0.016553  \n",
       "72  0.015133  \n",
       "24  0.014946  \n",
       "8   0.014632  \n",
       "35  0.014484  \n",
       "5   0.014393  \n",
       "66  0.014329  "
      ]
     },
     "execution_count": 85,
     "metadata": {},
     "output_type": "execute_result"
    }
   ],
   "source": [
    "sentence_imp['scores'] = scores[3, 0, 1:]\n",
    "sentence_imp  = sentence_imp[(sentence_imp.text!=\"<pad>\")]\n",
    "sentence_imp.sort_values(by=\"scores\", ascending=False)[:20]"
   ]
  },
  {
   "cell_type": "code",
   "execution_count": null,
   "metadata": {},
   "outputs": [],
   "source": [
    "len"
   ]
  },
  {
   "cell_type": "code",
   "execution_count": null,
   "metadata": {},
   "outputs": [],
   "source": [
    "\n",
    "import torch\n",
    "import sys\n",
    "sys.path.append('/mnt/transcriber/Call_Scoring')\n",
    "model = torch.load('/mnt/transcriber/Call_Scoring/logs/ak_3.7_13/fold_0_best_model')"
   ]
  },
  {
   "cell_type": "code",
   "execution_count": null,
   "metadata": {},
   "outputs": [],
   "source": [
    "path = \"/mnt/transcriber/Call_Scoring/logs/ak_3.5_31/fold_0_call_score_test.p\"\n",
    "df1 = pd.read_pickle(path)"
   ]
  },
  {
   "cell_type": "code",
   "execution_count": null,
   "metadata": {},
   "outputs": [],
   "source": [
    "df1 = df1.set_index('id')"
   ]
  },
  {
   "cell_type": "code",
   "execution_count": null,
   "metadata": {},
   "outputs": [],
   "source": [
    "df1.index"
   ]
  },
  {
   "cell_type": "code",
   "execution_count": null,
   "metadata": {},
   "outputs": [],
   "source": [
    "import pickle5 as pickle\n",
    "def prepare_score_df(path_to_p, workgroup):\n",
    "    with open(path_to_p, 'rb') as file:\n",
    "        df = pickle.load(file)\n",
    "    df = df.sort_values(by=['RecordingDate', 'QGroupSequence', 'QuestionSequence']).copy()\n",
    "    cols = ['QGroupSequence', 'QGroupName', 'InteractionIdKey', 'QuestionSequence', 'QuestionText', 'QuestionType',\n",
    "            'QuestionPromptType', 'QuestionWeight', 'QuestionMin', 'QuestionMax', 'AnswerScore', 'RawAnswer',\n",
    "            'DisplayAnswer',\n",
    "            'UserComments']\n",
    "    if workgroup == 'all':\n",
    "        calls_df = df[(df.QuestionnaireName == 'Call Interaction') & ((df.WorkgroupQueue == 'Customer Service')\n",
    "                                                                      |(df.WorkgroupQueue == 'Sales'))].copy()\n",
    "    elif workgroup == 'CustomerService':\n",
    "        calls_df = df[(df.QuestionnaireName == 'Call Interaction') & (df.WorkgroupQueue == 'Customer Service')].copy()\n",
    "    elif workgroup == 'Sales':\n",
    "        calls_df = df[(df.QuestionnaireName == 'Call Interaction') & (df.WorkgroupQueue == 'Sales')].copy()\n",
    "\n",
    "    q_df = calls_df[cols]\n",
    "    temp = q_df[0:10]\n",
    "    temp = temp.reset_index(drop=True)\n",
    "    q_text = []\n",
    "    for index, row in temp.iterrows():\n",
    "        q_text.append(row['QuestionText'])\n",
    "\n",
    "    score_df = pd.DataFrame()\n",
    "    score_df['WorkgroupQueue'] = calls_df.WorkgroupQueue[::10]\n",
    "    score_df['RecordingDate'] = calls_df.RecordingDate[::10]\n",
    "    # change baseline score range accordingly\n",
    "    # overall score between 0 and 1\n",
    "    score_df['CombinedPercentileScore'] = (calls_df.CombinedPercentileScore[::10]/100).astype(float).round(4)\n",
    "    score_df['Category'] = (score_df['CombinedPercentileScore'] < 0.75).apply(lambda x: int(x))\n",
    "    # overall score between 0 and 100\n",
    "    # score_df['CombinedPercentileScore'] = (calls_df.CombinedPercentileScore[::10]).astype(float).round(2)\n",
    "    # score_df['Category'] = (score_df['CombinedPercentileScore'] > 75).apply(lambda x: int(x))\n",
    "    score_df.index = calls_df.InteractionIdKey[::10]\n",
    "    calls_df.AnswerScore = calls_df.AnswerScore.astype('int')\n",
    "    for i in range(10):\n",
    "        criteria = q_text[i]\n",
    "        q_max = int(calls_df.QuestionMax.iloc[i])\n",
    "        score_df[criteria] = (calls_df.AnswerScore[i::10]).values\n",
    "        score_df[criteria] = score_df[criteria].apply(lambda x: 0 if x >= q_max else 1) #used as binary class\n",
    "        # score_df[criteria] = score_df[criteria].apply(lambda x: 1 if x >= q_max else 0) #used as binary class\n",
    "        score_df[criteria + ' Feedback'] = (calls_df.UserComments[i::10]).values\n",
    "    score_df = score_df.loc[~score_df.index.duplicated(keep='last')]\n",
    "    print(\"Dataframe creation done\")\n",
    "\n",
    "    return score_df, q_text"
   ]
  },
  {
   "cell_type": "code",
   "execution_count": null,
   "metadata": {},
   "outputs": [],
   "source": [
    "path = '/mnt/transcriber/Call_Scoring/ScoringDetail_viw_all_subscore.p'\n",
    "score_df, qt = prepare_score_df(path, 'all')"
   ]
  },
  {
   "cell_type": "code",
   "execution_count": null,
   "metadata": {},
   "outputs": [],
   "source": [
    "sales_df = df1[score_df.loc[df1.index].WorkgroupQueue=='Sales']\n",
    "cs_df = df1[score_df.loc[df1.index].WorkgroupQueue=='Customer Service']"
   ]
  },
  {
   "cell_type": "code",
   "execution_count": null,
   "metadata": {},
   "outputs": [],
   "source": [
    "from sklearn import metrics\n",
    "criteria = ['Cross Selling', 'Creates Incentive', 'Education', 'Processes']\n",
    "for i in range(4):\n",
    "    pred = sales_df.iloc[:, i]\n",
    "    true = sales_df.iloc[:, i+4]\n",
    "    auc = metrics.roc_auc_score(true, pred).round(2)\n",
    "    print(\"Auc for {} is {}\".format(criteria[i], auc))"
   ]
  },
  {
   "cell_type": "code",
   "execution_count": null,
   "metadata": {},
   "outputs": [],
   "source": [
    "sales_df1 = df.loc[sales_df.index]\n",
    "for i in range(4):\n",
    "    pred = sales_df1.iloc[:, i]\n",
    "    true = sales_df1.iloc[:, i+4]\n",
    "    auc = metrics.roc_auc_score(true, pred).round(2)\n",
    "    print(\"Auc for {} is {}\".format(criteria[i], auc))"
   ]
  },
  {
   "cell_type": "code",
   "execution_count": null,
   "metadata": {},
   "outputs": [],
   "source": [
    "def calculate_auc(df):\n",
    "    for i in range(4):\n",
    "        pred = df.iloc[:, i+8]\n",
    "        true = df.iloc[:, i+4]\n",
    "        auc = metrics.roc_auc_score(true, pred).round(2)\n",
    "        print(\"Auc for {} is {}\".format(criteria[i], auc))\n"
   ]
  },
  {
   "cell_type": "code",
   "execution_count": null,
   "metadata": {},
   "outputs": [],
   "source": [
    "def calculate_f1(df):\n",
    "    for i in range(4):\n",
    "        pred = df.iloc[:, i]\n",
    "        true = df.iloc[:, i+4]\n",
    "        f1 = metrics.f1_score(true, pred).round(2)\n",
    "        print(\"Auc for {} is {}\".format(criteria[i], f1))"
   ]
  },
  {
   "cell_type": "code",
   "execution_count": null,
   "metadata": {},
   "outputs": [],
   "source": [
    "calculate_auc(df)"
   ]
  },
  {
   "cell_type": "code",
   "execution_count": null,
   "metadata": {},
   "outputs": [],
   "source": [
    "df.columns"
   ]
  },
  {
   "cell_type": "code",
   "execution_count": null,
   "metadata": {},
   "outputs": [],
   "source": [
    "df.text[0]"
   ]
  },
  {
   "cell_type": "code",
   "execution_count": null,
   "metadata": {},
   "outputs": [],
   "source": [
    "df.text.apply(lambda x: len(x)).plot.hist()"
   ]
  },
  {
   "cell_type": "code",
   "execution_count": null,
   "metadata": {},
   "outputs": [],
   "source": [
    "len(df)"
   ]
  },
  {
   "cell_type": "code",
   "execution_count": null,
   "metadata": {},
   "outputs": [],
   "source": [
    "df[df['Pred Education']==df['True Education']].text.apply(lambda x: len(x)).plot.hist(bins=20)"
   ]
  },
  {
   "cell_type": "code",
   "execution_count": null,
   "metadata": {},
   "outputs": [],
   "source": [
    "df[df['Pred Education']==df['True Education']]['RawProba Education'].plot.hist()"
   ]
  },
  {
   "cell_type": "code",
   "execution_count": null,
   "metadata": {},
   "outputs": [],
   "source": [
    "df[df['Pred Education']!=df['True Education']]['RawProba Education'].plot.hist()"
   ]
  },
  {
   "cell_type": "code",
   "execution_count": null,
   "metadata": {},
   "outputs": [],
   "source": [
    "df[df['Pred Education']!=df['True Education']].text.apply(lambda x: len(x)).plot.hist(bins=20)"
   ]
  },
  {
   "cell_type": "code",
   "execution_count": null,
   "metadata": {},
   "outputs": [],
   "source": []
  },
  {
   "cell_type": "code",
   "execution_count": null,
   "metadata": {},
   "outputs": [],
   "source": [
    "df[df['Pred Education']!=df['True Education']]"
   ]
  },
  {
   "cell_type": "code",
   "execution_count": null,
   "metadata": {},
   "outputs": [],
   "source": [
    "calculate_auc(df1)"
   ]
  },
  {
   "cell_type": "code",
   "execution_count": null,
   "metadata": {},
   "outputs": [],
   "source": [
    "calculate_auc(sales_df)"
   ]
  },
  {
   "cell_type": "code",
   "execution_count": null,
   "metadata": {},
   "outputs": [],
   "source": [
    "calculate_auc(df.loc[sales_df.index])"
   ]
  },
  {
   "cell_type": "code",
   "execution_count": null,
   "metadata": {},
   "outputs": [],
   "source": [
    "from pathlib import Path\n",
    "all = [str(x) for x in Path('/mnt/transcriber/Call_Scoring/transcriptions/csr_ch/test').glob(\"**/*.txt\")]"
   ]
  },
  {
   "cell_type": "code",
   "execution_count": null,
   "metadata": {},
   "outputs": [],
   "source": [
    "calculate_f1(df)"
   ]
  },
  {
   "cell_type": "code",
   "execution_count": null,
   "metadata": {},
   "outputs": [],
   "source": [
    "calculate_f1(df1)"
   ]
  },
  {
   "cell_type": "code",
   "execution_count": null,
   "metadata": {},
   "outputs": [],
   "source": [
    "calculate_f1(sales_df)"
   ]
  },
  {
   "cell_type": "code",
   "execution_count": null,
   "metadata": {},
   "outputs": [],
   "source": [
    "calculate_f1(df.loc[sales_df.index])"
   ]
  },
  {
   "cell_type": "code",
   "execution_count": null,
   "metadata": {},
   "outputs": [],
   "source": []
  }
 ],
 "metadata": {
  "interpreter": {
   "hash": "a523e54b3fdc39f34f323bdf80e9503aa756936cc284ccf7dd206c125ccb4b3d"
  },
  "kernelspec": {
   "display_name": "Python 3.7.11 ('call_scoring')",
   "language": "python",
   "name": "python3"
  },
  "language_info": {
   "codemirror_mode": {
    "name": "ipython",
    "version": 3
   },
   "file_extension": ".py",
   "mimetype": "text/x-python",
   "name": "python",
   "nbconvert_exporter": "python",
   "pygments_lexer": "ipython3",
   "version": "3.7.11"
  },
  "orig_nbformat": 4
 },
 "nbformat": 4,
 "nbformat_minor": 2
}
