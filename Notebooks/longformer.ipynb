{
 "cells": [
  {
   "cell_type": "code",
   "execution_count": 1,
   "metadata": {},
   "outputs": [],
   "source": [
    "import torch\n",
    "from transformers import LongformerTokenizer, LongformerForSequenceClassification, AutoTokenizer, AutoModelForSequenceClassification\n",
    "import unidecode\n",
    "import contractions\n",
    "import sys\n",
    "sys.path.append('..')"
   ]
  },
  {
   "cell_type": "code",
   "execution_count": 2,
   "metadata": {},
   "outputs": [],
   "source": [
    "from PrepareDf import *"
   ]
  },
  {
   "cell_type": "code",
   "execution_count": 3,
   "metadata": {},
   "outputs": [],
   "source": [
    "train_pt = '/mnt/transcriber/Call_Scoring/transcriptions/csr_ch/train/'\n",
    "test_pt = '/mnt/transcriber/Call_Scoring/transcriptions/csr_ch/test/'"
   ]
  },
  {
   "cell_type": "code",
   "execution_count": 4,
   "metadata": {},
   "outputs": [],
   "source": [
    "path_to_handscored_p ='../ScoringDetail_viw_all_subscore.p'"
   ]
  },
  {
   "cell_type": "code",
   "execution_count": 5,
   "metadata": {},
   "outputs": [],
   "source": [
    "sub_score_categories = ['Cross Selling', 'Creates Incentive', 'Education', 'Processes', 'Product Knowledge', 'Greeting', 'Professionalism', 'Confidence',  'Retention',\n",
    "                        'Documentation']\n",
    "scoring_criteria = sub_score_categories[:4]"
   ]
  },
  {
   "cell_type": "code",
   "execution_count": 6,
   "metadata": {},
   "outputs": [
    {
     "name": "stdout",
     "output_type": "stream",
     "text": [
      "Dataframe creation done\n"
     ]
    },
    {
     "name": "stderr",
     "output_type": "stream",
     "text": [
      "100%|██████████| 12684/12684 [00:29<00:00, 428.25it/s]\n"
     ]
    },
    {
     "name": "stdout",
     "output_type": "stream",
     "text": [
      "Number of Calls = 12497\n"
     ]
    },
    {
     "name": "stderr",
     "output_type": "stream",
     "text": [
      "100%|██████████| 2407/2407 [01:25<00:00, 28.11it/s]"
     ]
    },
    {
     "name": "stdout",
     "output_type": "stream",
     "text": [
      "Number of Calls = 2404\n"
     ]
    },
    {
     "name": "stderr",
     "output_type": "stream",
     "text": [
      "\n"
     ]
    }
   ],
   "source": [
    "score_df, q_text = prepare_score_df(\n",
    "    path_to_handscored_p, workgroup='all')\n",
    "train_df = prepare_trancript_score_df(score_df, q_text, train_pt, None)\n",
    "test_df = prepare_trancript_score_df(score_df, q_text, test_pt, None)"
   ]
  },
  {
   "cell_type": "code",
   "execution_count": 7,
   "metadata": {},
   "outputs": [],
   "source": [
    "def post_process(arr):\n",
    "    arr = [txt.capitalize() for txt in arr]\n",
    "    return '. '.join(arr)"
   ]
  },
  {
   "cell_type": "code",
   "execution_count": 8,
   "metadata": {},
   "outputs": [],
   "source": [
    "train_df.text = train_df.text.apply(lambda x: post_process(x))\n",
    "test_df.text = test_df.text.apply(lambda x: post_process(x))"
   ]
  },
  {
   "cell_type": "code",
   "execution_count": 9,
   "metadata": {},
   "outputs": [],
   "source": [
    "from datasets import Dataset"
   ]
  },
  {
   "cell_type": "code",
   "execution_count": 10,
   "metadata": {},
   "outputs": [],
   "source": [
    "train_ds = Dataset.from_pandas(train_df)\n",
    "test_ds = Dataset.from_pandas(test_df)"
   ]
  },
  {
   "cell_type": "code",
   "execution_count": 11,
   "metadata": {},
   "outputs": [
    {
     "name": "stderr",
     "output_type": "stream",
     "text": [
      "Some weights of the model checkpoint at distilbert-base-uncased were not used when initializing DistilBertForSequenceClassification: ['vocab_transform.weight', 'vocab_layer_norm.weight', 'vocab_projector.weight', 'vocab_projector.bias', 'vocab_transform.bias', 'vocab_layer_norm.bias']\n",
      "- This IS expected if you are initializing DistilBertForSequenceClassification from the checkpoint of a model trained on another task or with another architecture (e.g. initializing a BertForSequenceClassification model from a BertForPreTraining model).\n",
      "- This IS NOT expected if you are initializing DistilBertForSequenceClassification from the checkpoint of a model that you expect to be exactly identical (initializing a BertForSequenceClassification model from a BertForSequenceClassification model).\n",
      "Some weights of DistilBertForSequenceClassification were not initialized from the model checkpoint at distilbert-base-uncased and are newly initialized: ['classifier.bias', 'classifier.weight', 'pre_classifier.bias', 'pre_classifier.weight']\n",
      "You should probably TRAIN this model on a down-stream task to be able to use it for predictions and inference.\n"
     ]
    }
   ],
   "source": [
    "# checkpoint='allenai/longformer-base-4096'\n",
    "checkpoint = 'distilbert-base-uncased'\n",
    "tokenizer = AutoTokenizer.from_pretrained(checkpoint, )\n",
    "model = AutoModelForSequenceClassification.from_pretrained(checkpoint, num_labels=8)"
   ]
  },
  {
   "cell_type": "code",
   "execution_count": 12,
   "metadata": {},
   "outputs": [],
   "source": [
    "def preprocess_function(example):\n",
    "    new_dict = tokenizer(example[\"text\"], truncation=True)\n",
    "    new_dict['labels'] = [example[criteria] for criteria in scoring_criteria]\n",
    "    return new_dict"
   ]
  },
  {
   "cell_type": "code",
   "execution_count": 13,
   "metadata": {},
   "outputs": [
    {
     "data": {
      "application/vnd.jupyter.widget-view+json": {
       "model_id": "12410ad83a9f40be88716cac0e990770",
       "version_major": 2,
       "version_minor": 0
      },
      "text/plain": [
       "  0%|          | 0/12497 [00:00<?, ?ex/s]"
      ]
     },
     "metadata": {},
     "output_type": "display_data"
    },
    {
     "data": {
      "application/vnd.jupyter.widget-view+json": {
       "model_id": "384dfb292b454eaa8220e7843f4b363c",
       "version_major": 2,
       "version_minor": 0
      },
      "text/plain": [
       "  0%|          | 0/2404 [00:00<?, ?ex/s]"
      ]
     },
     "metadata": {},
     "output_type": "display_data"
    }
   ],
   "source": [
    "cols = train_ds.column_names\n",
    "tokenized_ds_train = train_ds.map(preprocess_function, remove_columns=cols)\n",
    "tokenized_ds_test = test_ds.map(preprocess_function, remove_columns=cols)\n",
    "tokenized_ds_train.set_format('torch')\n",
    "tokenized_ds_test.set_format('torch')\n"
   ]
  },
  {
   "cell_type": "code",
   "execution_count": 14,
   "metadata": {},
   "outputs": [],
   "source": [
    "from transformers import DataCollatorWithPadding, Trainer, TrainingArguments\n",
    "data_collator = DataCollatorWithPadding(tokenizer, padding=True, return_tensors='pt')"
   ]
  },
  {
   "cell_type": "code",
   "execution_count": 15,
   "metadata": {},
   "outputs": [],
   "source": [
    "class MultilabelTrainer(Trainer):\n",
    "    def compute_loss(self, model, inputs, return_outputs=False):\n",
    "        labels = inputs.pop(\"labels\")\n",
    "        outputs = model(**inputs)\n",
    "        logits = outputs.logits\n",
    "        loss_fn = torch.nn.CrossEntropyLoss()\n",
    "        for i in range(self.model.config.num_labels//2):\n",
    "            loss = loss_fn(outputs[0][:, 2*i:2*(i+1)], labels[:, i])\n",
    "\n",
    "        return (loss, outputs) if return_outputs else loss\n"
   ]
  },
  {
   "cell_type": "code",
   "execution_count": 16,
   "metadata": {},
   "outputs": [],
   "source": [
    "from sklearn.metrics import roc_auc_score\n",
    "def compute_metrics(eval_pred):\n",
    "    logits, labels = eval_pred\n",
    "    pos_proba = logits[:, [i for i in range(1, logits.shape[1], 2)]]\n",
    "    auc_scores = roc_auc_score(labels, pos_proba, average=None)\n",
    "    result = {}\n",
    "    for i in range(len(auc_scores)):\n",
    "        result[scoring_criteria[i]] = auc_scores[i]\n",
    "    return result\n"
   ]
  },
  {
   "cell_type": "code",
   "execution_count": 19,
   "metadata": {},
   "outputs": [
    {
     "name": "stderr",
     "output_type": "stream",
     "text": [
      "PyTorch: setting up devices\n"
     ]
    }
   ],
   "source": [
    "training_args = TrainingArguments(\n",
    "    output_dir=\"../logs/distil-bert\",\n",
    "    learning_rate=2e-5,\n",
    "    per_device_train_batch_size=16,\n",
    "    per_device_eval_batch_size=16,\n",
    "    num_train_epochs=3,\n",
    "    weight_decay=0.01,\n",
    "    report_to='wandb',\n",
    "    eval_steps=10,\n",
    "    evaluation_strategy='epoch',\n",
    "    run_name='distil-bert'\n",
    ")"
   ]
  },
  {
   "cell_type": "code",
   "execution_count": 20,
   "metadata": {},
   "outputs": [],
   "source": [
    "trainer = MultilabelTrainer(\n",
    "    model=model,\n",
    "    args=training_args,\n",
    "    train_dataset=tokenized_ds_train,\n",
    "    eval_dataset=tokenized_ds_test,\n",
    "    data_collator = data_collator,\n",
    "    tokenizer=tokenizer,\n",
    "    compute_metrics = compute_metrics\n",
    ")"
   ]
  },
  {
   "cell_type": "code",
   "execution_count": 21,
   "metadata": {},
   "outputs": [
    {
     "name": "stderr",
     "output_type": "stream",
     "text": [
      "/home/kekuak/miniconda3/envs/call_scoring/lib/python3.7/site-packages/transformers/optimization.py:309: FutureWarning: This implementation of AdamW is deprecated and will be removed in a future version. Use the PyTorch implementation torch.optim.AdamW instead, or set `no_deprecation_warning=True` to disable this warning\n",
      "  FutureWarning,\n",
      "***** Running training *****\n",
      "  Num examples = 12497\n",
      "  Num Epochs = 3\n",
      "  Instantaneous batch size per device = 16\n",
      "  Total train batch size (w. parallel, distributed & accumulation) = 16\n",
      "  Gradient Accumulation steps = 1\n",
      "  Total optimization steps = 2346\n",
      "Automatic Weights & Biases logging enabled, to disable set os.environ[\"WANDB_DISABLED\"] = \"true\"\n",
      "\u001b[34m\u001b[1mwandb\u001b[0m: Currently logged in as: \u001b[33mkekuda95\u001b[0m. Use \u001b[1m`wandb login --relogin`\u001b[0m to force relogin\n"
     ]
    },
    {
     "data": {
      "text/html": [
       "Tracking run with wandb version 0.13.3"
      ],
      "text/plain": [
       "<IPython.core.display.HTML object>"
      ]
     },
     "metadata": {},
     "output_type": "display_data"
    },
    {
     "data": {
      "text/html": [
       "Run data is saved locally in <code>/mnt/transcriber/Call_Scoring/Notebooks/wandb/run-20220922_115303-1f9w0mb6</code>"
      ],
      "text/plain": [
       "<IPython.core.display.HTML object>"
      ]
     },
     "metadata": {},
     "output_type": "display_data"
    },
    {
     "data": {
      "text/html": [
       "Syncing run <strong><a href=\"https://wandb.ai/kekuda95/huggingface/runs/1f9w0mb6\" target=\"_blank\">../logs/distil-bert</a></strong> to <a href=\"https://wandb.ai/kekuda95/huggingface\" target=\"_blank\">Weights & Biases</a> (<a href=\"https://wandb.me/run\" target=\"_blank\">docs</a>)<br/>"
      ],
      "text/plain": [
       "<IPython.core.display.HTML object>"
      ]
     },
     "metadata": {},
     "output_type": "display_data"
    },
    {
     "data": {
      "text/html": [
       "\n",
       "    <div>\n",
       "      \n",
       "      <progress value='2346' max='2346' style='width:300px; height:20px; vertical-align: middle;'></progress>\n",
       "      [2346/2346 3:51:22, Epoch 3/3]\n",
       "    </div>\n",
       "    <table border=\"1\" class=\"dataframe\">\n",
       "  <thead>\n",
       " <tr style=\"text-align: left;\">\n",
       "      <th>Epoch</th>\n",
       "      <th>Training Loss</th>\n",
       "      <th>Validation Loss</th>\n",
       "      <th>Cross selling</th>\n",
       "      <th>Creates incentive</th>\n",
       "      <th>Education</th>\n",
       "      <th>Processes</th>\n",
       "    </tr>\n",
       "  </thead>\n",
       "  <tbody>\n",
       "    <tr>\n",
       "      <td>1</td>\n",
       "      <td>0.674800</td>\n",
       "      <td>0.663249</td>\n",
       "      <td>0.565970</td>\n",
       "      <td>0.570815</td>\n",
       "      <td>0.437485</td>\n",
       "      <td>0.637043</td>\n",
       "    </tr>\n",
       "    <tr>\n",
       "      <td>2</td>\n",
       "      <td>0.635100</td>\n",
       "      <td>0.682303</td>\n",
       "      <td>0.569068</td>\n",
       "      <td>0.513780</td>\n",
       "      <td>0.411018</td>\n",
       "      <td>0.650449</td>\n",
       "    </tr>\n",
       "    <tr>\n",
       "      <td>3</td>\n",
       "      <td>0.611600</td>\n",
       "      <td>0.652303</td>\n",
       "      <td>0.573646</td>\n",
       "      <td>0.530580</td>\n",
       "      <td>0.401733</td>\n",
       "      <td>0.663233</td>\n",
       "    </tr>\n",
       "  </tbody>\n",
       "</table><p>"
      ],
      "text/plain": [
       "<IPython.core.display.HTML object>"
      ]
     },
     "metadata": {},
     "output_type": "display_data"
    },
    {
     "name": "stderr",
     "output_type": "stream",
     "text": [
      "Saving model checkpoint to ../logs/distil-bert/checkpoint-500\n",
      "Configuration saved in ../logs/distil-bert/checkpoint-500/config.json\n",
      "Model weights saved in ../logs/distil-bert/checkpoint-500/pytorch_model.bin\n",
      "tokenizer config file saved in ../logs/distil-bert/checkpoint-500/tokenizer_config.json\n",
      "Special tokens file saved in ../logs/distil-bert/checkpoint-500/special_tokens_map.json\n",
      "***** Running Evaluation *****\n",
      "  Num examples = 2404\n",
      "  Batch size = 16\n",
      "Saving model checkpoint to ../logs/distil-bert/checkpoint-1000\n",
      "Configuration saved in ../logs/distil-bert/checkpoint-1000/config.json\n",
      "Model weights saved in ../logs/distil-bert/checkpoint-1000/pytorch_model.bin\n",
      "tokenizer config file saved in ../logs/distil-bert/checkpoint-1000/tokenizer_config.json\n",
      "Special tokens file saved in ../logs/distil-bert/checkpoint-1000/special_tokens_map.json\n",
      "Saving model checkpoint to ../logs/distil-bert/checkpoint-1500\n",
      "Configuration saved in ../logs/distil-bert/checkpoint-1500/config.json\n",
      "Model weights saved in ../logs/distil-bert/checkpoint-1500/pytorch_model.bin\n",
      "tokenizer config file saved in ../logs/distil-bert/checkpoint-1500/tokenizer_config.json\n",
      "Special tokens file saved in ../logs/distil-bert/checkpoint-1500/special_tokens_map.json\n",
      "***** Running Evaluation *****\n",
      "  Num examples = 2404\n",
      "  Batch size = 16\n",
      "Saving model checkpoint to ../logs/distil-bert/checkpoint-2000\n",
      "Configuration saved in ../logs/distil-bert/checkpoint-2000/config.json\n",
      "Model weights saved in ../logs/distil-bert/checkpoint-2000/pytorch_model.bin\n",
      "tokenizer config file saved in ../logs/distil-bert/checkpoint-2000/tokenizer_config.json\n",
      "Special tokens file saved in ../logs/distil-bert/checkpoint-2000/special_tokens_map.json\n",
      "***** Running Evaluation *****\n",
      "  Num examples = 2404\n",
      "  Batch size = 16\n",
      "\n",
      "\n",
      "Training completed. Do not forget to share your model on huggingface.co/models =)\n",
      "\n",
      "\n"
     ]
    },
    {
     "data": {
      "text/plain": [
       "TrainOutput(global_step=2346, training_loss=0.6373150525495525, metrics={'train_runtime': 13896.5669, 'train_samples_per_second': 2.698, 'train_steps_per_second': 0.169, 'total_flos': 4966866648244224.0, 'train_loss': 0.6373150525495525, 'epoch': 3.0})"
      ]
     },
     "execution_count": 21,
     "metadata": {},
     "output_type": "execute_result"
    }
   ],
   "source": [
    "trainer.train()"
   ]
  },
  {
   "cell_type": "markdown",
   "metadata": {},
   "source": [
    "## Native Pytorch Implementation"
   ]
  },
  {
   "cell_type": "code",
   "execution_count": 31,
   "metadata": {},
   "outputs": [],
   "source": [
    "from transformers import AutoModel\n",
    "from torch.utils.data import DataLoader\n",
    "from torch.optim import AdamW\n",
    "from transformers import get_scheduler\n",
    "import torch.nn as nn"
   ]
  },
  {
   "cell_type": "code",
   "execution_count": 44,
   "metadata": {},
   "outputs": [],
   "source": [
    "class BERT_CLF_HEAD(nn.Module):\n",
    "    def __init__(self, dim_size, num_classes, dropout=0.2):\n",
    "        super(BERT_CLF_HEAD, self).__init__()\n",
    "        self.pre_classifier = nn.Linear(dim_size, dim_size)\n",
    "        self.classifier = nn.Linear(dim_size, num_classes)\n",
    "        self.dropout = nn.Dropout(p=dropout)\n",
    "        \n",
    "    def forward(self, x):\n",
    "        out = self.pre_classifier(x)\n",
    "        logits = self.dropout(self.classifier(out))\n",
    "        return logits"
   ]
  },
  {
   "cell_type": "code",
   "execution_count": null,
   "metadata": {},
   "outputs": [],
   "source": [
    "model = AutoModel.from_pretrained(checkpoint)\n",
    "bert_head = BERT_CLF_HEAD(dim_size=768, num_classes=num_labels)"
   ]
  },
  {
   "cell_type": "code",
   "execution_count": null,
   "metadata": {},
   "outputs": [],
   "source": [
    "device = torch.device(\"cuda\") if torch.cuda.is_available() else torch.device(\"cpu\")\n",
    "model.to(device)\n",
    "bert_head.to(device)"
   ]
  },
  {
   "cell_type": "code",
   "execution_count": null,
   "metadata": {},
   "outputs": [],
   "source": [
    "class Trainer:\n",
    "    def __init__(self, lr, bs, train_ds, test_ds, epochs):\n",
    "        self.train_dataloader = DataLoader(train_ds, batch_size=bs, collate_fn=data_collator)\n",
    "        self.test_dataloader = DataLoader(test_ds, batch_size=bs, collate_fn=data_collator)\n",
    "        self.num_epochs = epochs\n",
    "        self.lr = lr\n",
    "        \n",
    "    def compute_loss(self, logits, labels):\n",
    "        loss_fn = torch.nn.CrossEntropyLoss()\n",
    "        for i in range(num_labels//2):\n",
    "            loss = loss_fn(logits[:, 2*i:2*(i+1)], labels[:, i])\n",
    "        return loss\n",
    "    \n",
    "    def compute_metrics(self, eval_pred):\n",
    "        logits, labels = eval_pred\n",
    "        pos_proba = logits[:, [i for i in range(1, logits.shape[1], 2)]]\n",
    "        auc_scores = roc_auc_score(labels, pos_proba, average=None)\n",
    "        result = {}\n",
    "        for i in range(len(auc_scores)):\n",
    "            result[scoring_criteria[i]] = auc_scores[i]\n",
    "        return result\n",
    "    \n",
    "    def compute_logits(self, batch):\n",
    "        input_id_chunks = torch.split(batch['input_ids'], 512, -1)\n",
    "        attention_mask_chunks = torch.split(batch['attention_mask'], 512, -1)\n",
    "        cls_arr = []\n",
    "        for input_ids, attention_mask in zip(input_id_chunks, attention_mask_chunks):\n",
    "            chunk_batch = {'input_ids': input_ids, 'attention_mask': attention_mask}\n",
    "            outputs = model(**chunk_batch, output_hidden_states=True)\n",
    "            last_hidden_states = outputs.hidden_states[-1]\n",
    "            cls_token_embed = last_hidden_states[:,0,:]\n",
    "            cls_arr.append(cls_token_embed)        \n",
    "        cls_embed_mean = torch.mean(torch.stack(cls_arr), dim=0)\n",
    "        logits = bert_head(cls_embed_mean)\n",
    "        return logits\n",
    "    \n",
    "    def get_optimizer(self):\n",
    "        return AdamW(model.parameters(), self.lr)\n",
    "    \n",
    "    def get_scheduler(self):\n",
    "        num_training_steps = self.num_epochs * len(self.train_dataloader)\n",
    "        lr_scheduler = get_scheduler(\n",
    "            name=\"linear\", optimizer=self.optimizer, num_warmup_steps=0, num_training_steps=num_training_steps\n",
    "        )\n",
    "        \n",
    "    def train(self):\n",
    "        self.optimizer = self.get_optimizer()\n",
    "        self.lr_scheduler  = self.get_scheduler()\n",
    "        for epoch in range(self.num_epochs):\n",
    "            for batch in self.train_dataloader:\n",
    "                batch = {k: v.to(device) for k, v in batch.items()}\n",
    "                logits = self.compute_logits(batch)\n",
    "                labels = batch['labels']\n",
    "                loss = self.compute_loss(logits, labels)\n",
    "                loss.backward()\n",
    "                self.optimizer.step()\n",
    "                lr_scheduler.step()\n",
    "                optimizer.zero_grad()\n",
    "                progress_bar.update(1)\n",
    "                break\n",
    "            self.evaluate()\n",
    "            \n",
    "    def evaluate(self):\n",
    "        all_logits = []\n",
    "        all_labels = []\n",
    "        for batch in self.test_dataloader:\n",
    "            batch = {k: v.to(device) for k, v in batch.items()}\n",
    "            with torch.no_grad():\n",
    "                logits = self.compute_logits(batch)\n",
    "                all_logits.append(logits.numpy())\n",
    "            labels = batch['labels']\n",
    "            all_labels.append(labels.numpy())\n",
    "        all_logits = np.vstack(all_logits)\n",
    "        all_labels = np.vstack(all_labels)\n",
    "        eval_pred = (all_logits, all_labels)\n",
    "            \n",
    "        metrics = self.compute_metrics(eval_pred)\n",
    "        print(metrics)\n",
    "        return"
   ]
  }
 ],
 "metadata": {
  "kernelspec": {
   "display_name": "mac_torch",
   "language": "python",
   "name": "mac_torch"
  },
  "language_info": {
   "codemirror_mode": {
    "name": "ipython",
    "version": 3
   },
   "file_extension": ".py",
   "mimetype": "text/x-python",
   "name": "python",
   "nbconvert_exporter": "python",
   "pygments_lexer": "ipython3",
   "version": "3.10.6"
  },
  "vscode": {
   "interpreter": {
    "hash": "daf82e5e90d16040059b2304462642dc0e7c83f222921802b45599b0c2d201a6"
   }
  }
 },
 "nbformat": 4,
 "nbformat_minor": 4
}
