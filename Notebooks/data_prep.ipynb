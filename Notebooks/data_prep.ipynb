{
 "cells": [
  {
   "cell_type": "code",
   "execution_count": 1,
   "metadata": {},
   "outputs": [],
   "source": [
    "import os\n",
    "import re\n",
    "import pickle5 as pickle\n",
    "import pandas as pd"
   ]
  },
  {
   "cell_type": "code",
   "execution_count": 140,
   "metadata": {},
   "outputs": [],
   "source": [
    "with open('/mnt/transcriber/sales_test') as f:\n",
    "    arr1 = f.readlines()\n",
    "arr1 = [id.strip(\"\\n\") for id in arr1]\n",
    "\n",
    "with open('/mnt/transcriber/test_ids.txt') as f:\n",
    "    arr2 = f.readlines()\n",
    "arr2 = [id.strip(\"\\n\") for id in arr2]"
   ]
  },
  {
   "cell_type": "code",
   "execution_count": 141,
   "metadata": {},
   "outputs": [],
   "source": [
    "arr1 = set(arr1)"
   ]
  },
  {
   "cell_type": "code",
   "execution_count": 2,
   "metadata": {},
   "outputs": [],
   "source": [
    "path = '/mnt/transcriber/Call_Scoring/transcriptions/single_ch_b1/single_ch/'\n",
    "ids = set()\n",
    "for file in os.listdir(path):\n",
    "    id = re.split(\"_|-|\\.\", file)[1]\n",
    "    ids.add(id)"
   ]
  },
  {
   "cell_type": "code",
   "execution_count": 3,
   "metadata": {},
   "outputs": [
    {
     "data": {
      "text/plain": [
       "5945"
      ]
     },
     "execution_count": 3,
     "metadata": {},
     "output_type": "execute_result"
    }
   ],
   "source": [
    "len(ids)"
   ]
  },
  {
   "cell_type": "code",
   "execution_count": 4,
   "metadata": {},
   "outputs": [],
   "source": [
    "path = '/mnt/transcriber/Call_Scoring/transcriptions/customer_ch/test/'\n",
    "cust_test = set()\n",
    "for file in os.listdir(path):\n",
    "    id = re.split(\"_|-|\\.\", file)[1]\n",
    "    cust_test.add(id)"
   ]
  },
  {
   "cell_type": "code",
   "execution_count": 5,
   "metadata": {},
   "outputs": [
    {
     "data": {
      "text/plain": [
       "2993"
      ]
     },
     "execution_count": 5,
     "metadata": {},
     "output_type": "execute_result"
    }
   ],
   "source": [
    "len(cust_test)"
   ]
  },
  {
   "cell_type": "code",
   "execution_count": 6,
   "metadata": {},
   "outputs": [],
   "source": [
    "path = '/mnt/transcriber/Call_Scoring/transcriptions/csr_ch/train/'\n",
    "csr_train = set()\n",
    "for file in os.listdir(path):\n",
    "    id = re.split(\"_|-|\\.\", file)[1]\n",
    "    csr_train.add(id)"
   ]
  },
  {
   "cell_type": "code",
   "execution_count": 20,
   "metadata": {},
   "outputs": [],
   "source": [
    "path = '/mnt/transcriber/Call_Scoring/transcriptions/csr_ch/test/'\n",
    "csr_test = set()\n",
    "for file in os.listdir(path):\n",
    "    id = re.split(\"_|-|\\.\", file)[1]\n",
    "    csr_test.add(id)"
   ]
  },
  {
   "cell_type": "code",
   "execution_count": 21,
   "metadata": {},
   "outputs": [
    {
     "data": {
      "text/plain": [
       "2407"
      ]
     },
     "execution_count": 21,
     "metadata": {},
     "output_type": "execute_result"
    }
   ],
   "source": [
    "len(csr_test)"
   ]
  },
  {
   "cell_type": "code",
   "execution_count": 2,
   "metadata": {},
   "outputs": [],
   "source": [
    "def prepare_score_df(path_to_p, workgroup):\n",
    "    with open(path_to_p, 'rb') as file:\n",
    "        df = pickle.load(file)\n",
    "    df = df.sort_values(by=['RecordingDate', 'QGroupSequence', 'QuestionSequence']).copy()\n",
    "    cols = ['QGroupSequence', 'QGroupName', 'InteractionIdKey', 'QuestionSequence', 'QuestionText', 'QuestionType',\n",
    "            'QuestionPromptType', 'QuestionWeight', 'QuestionMin', 'QuestionMax', 'AnswerScore', 'RawAnswer',\n",
    "            'DisplayAnswer',\n",
    "            'UserComments']\n",
    "    if workgroup == 'all':\n",
    "        calls_df = df[(df.QuestionnaireName == 'Call Interaction') & ((df.WorkgroupQueue == 'Customer Service')\n",
    "                                                                      |(df.WorkgroupQueue == 'Sales'))].copy()\n",
    "    elif workgroup == 'CustomerService':\n",
    "        calls_df = df[(df.QuestionnaireName == 'Call Interaction') & (df.WorkgroupQueue == 'Customer Service')].copy()\n",
    "    elif workgroup == 'Sales':\n",
    "        calls_df = df[(df.QuestionnaireName == 'Call Interaction') & (df.WorkgroupQueue == 'Sales')].copy()\n",
    "\n",
    "    q_df = calls_df[cols]\n",
    "    temp = q_df[0:10]\n",
    "    temp = temp.reset_index(drop=True)\n",
    "    q_text = []\n",
    "    for index, row in temp.iterrows():\n",
    "        q_text.append(row['QuestionText'])\n",
    "\n",
    "    score_df = pd.DataFrame()\n",
    "    score_df['WorkgroupQueue'] = calls_df.WorkgroupQueue[::10]\n",
    "    score_df['RecordingDate'] = calls_df.RecordingDate[::10]\n",
    "    # change baseline score range accordingly\n",
    "    # overall score between 0 and 1\n",
    "    score_df['CombinedPercentileScore'] = (calls_df.CombinedPercentileScore[::10]/100).astype(float).round(4)\n",
    "    score_df['Category'] = (score_df['CombinedPercentileScore'] < 0.75).apply(lambda x: int(x))\n",
    "    # overall score between 0 and 100\n",
    "    # score_df['CombinedPercentileScore'] = (calls_df.CombinedPercentileScore[::10]).astype(float).round(2)\n",
    "    # score_df['Category'] = (score_df['CombinedPercentileScore'] > 75).apply(lambda x: int(x))\n",
    "    score_df.index = calls_df.InteractionIdKey[::10]\n",
    "    calls_df.AnswerScore = calls_df.AnswerScore.astype('int')\n",
    "    for i in range(10):\n",
    "        criteria = q_text[i]\n",
    "        q_max = int(calls_df.QuestionMax.iloc[i])\n",
    "        score_df[criteria] = (calls_df.AnswerScore[i::10]).values\n",
    "        score_df[criteria] = score_df[criteria].apply(lambda x: 0 if x >= q_max else 1) #used as binary class\n",
    "        # score_df[criteria] = score_df[criteria].apply(lambda x: 1 if x >= q_max else 0) #used as binary class\n",
    "        score_df[criteria + ' Feedback'] = (calls_df.UserComments[i::10]).values\n",
    "    score_df = score_df.loc[~score_df.index.duplicated(keep='last')]\n",
    "    print(\"Dataframe creation done\")\n",
    "\n",
    "    return score_df, q_text"
   ]
  },
  {
   "cell_type": "code",
   "execution_count": 3,
   "metadata": {},
   "outputs": [
    {
     "name": "stdout",
     "output_type": "stream",
     "text": [
      "Dataframe creation done\n"
     ]
    }
   ],
   "source": [
    "path = '/mnt/transcriber/Call_Scoring/ScoringDetail_viw_all_subscore.p'\n",
    "score_df, qt = prepare_score_df(path, 'all')"
   ]
  },
  {
   "cell_type": "code",
   "execution_count": 11,
   "metadata": {},
   "outputs": [
    {
     "data": {
      "text/plain": [
       "Index(['RecordingId', 'RecordingDate', 'MediaType', 'InteractionIdKey',\n",
       "       'RecordingLength', 'InitiationPolicyName', 'Direction',\n",
       "       'RecordedUserIndivId', 'RecordedUserLastName', 'RecordedUserFirstName',\n",
       "       'RecordedUserMiddleName', 'RecordedUserDisplayName',\n",
       "       'RecordedUserICUserId', 'WorkgroupQueue', 'QuestionnaireId',\n",
       "       'QuestionnaireName', 'QuestionnaireNote', 'QuestionnaireMinScore',\n",
       "       'QuestionnaireMaxScore', 'QDirectoryName', 'QGroupId', 'QGroupSequence',\n",
       "       'QGroupName', 'QGroupNote', 'IsOptional', 'QuestionId',\n",
       "       'QuestionSequence', 'QuestionText', 'QuestionType',\n",
       "       'QuestionPromptType', 'QuestionWeight', 'QuestionMin', 'QuestionMax',\n",
       "       'QuestionMinAcceptableScore', 'QuestionCanMarkNA', 'FormId',\n",
       "       'ScoredUserLastName', 'ScoredUserFirstName', 'ScoredUserMiddleName',\n",
       "       'ScoredUserICUserId', 'ScoredUserIndivID', 'ScoringUserLastName',\n",
       "       'ScoringUserFirstName', 'ScoringUserMiddleName', 'ScoringUserICUserId',\n",
       "       'ScoringUserIndivId', 'CombinedMaxScore', 'CombinedMinScore',\n",
       "       'CombinedScore', 'CombinedPercentileScore', 'RankName',\n",
       "       'NonCriticalMaxScore', 'NonCriticalMinScore', 'NonCriticalScore',\n",
       "       'NonCriticalPercentileScore', 'TotalNumCriticalQuestions',\n",
       "       'NumAnsweredCriticalQstns', 'NumPosAnsweredCriticalQstns',\n",
       "       'CriticalScore', 'IsFailed', 'UsingForCalibration', 'AnswerScore',\n",
       "       'RawAnswer', 'DisplayAnswer', 'UserComments', 'IsMarkedNA'],\n",
       "      dtype='object')"
      ]
     },
     "execution_count": 11,
     "metadata": {},
     "output_type": "execute_result"
    }
   ],
   "source": [
    "with open(path, 'rb') as file:\n",
    "    df = pickle.load(file)\n",
    "df.columns"
   ]
  },
  {
   "cell_type": "code",
   "execution_count": 4,
   "metadata": {},
   "outputs": [
    {
     "data": {
      "text/plain": [
       "Sales               12942\n",
       "Customer Service     9437\n",
       "Name: WorkgroupQueue, dtype: int64"
      ]
     },
     "execution_count": 4,
     "metadata": {},
     "output_type": "execute_result"
    }
   ],
   "source": [
    "score_df.WorkgroupQueue.value_counts()"
   ]
  },
  {
   "cell_type": "code",
   "execution_count": 7,
   "metadata": {},
   "outputs": [
    {
     "data": {
      "text/plain": [
       "Timestamp('2021-08-26 13:54:01.867000')"
      ]
     },
     "execution_count": 7,
     "metadata": {},
     "output_type": "execute_result"
    }
   ],
   "source": [
    "score_df.RecordingDate.max()"
   ]
  },
  {
   "cell_type": "code",
   "execution_count": 4,
   "metadata": {},
   "outputs": [],
   "source": [
    "import os\n",
    "import re\n",
    "path = '/mnt/transcriber/Call_Scoring/transcriptions/csr_ch/train/'\n",
    "ids = set()\n",
    "for file in os.listdir(path):\n",
    "    id = re.split(\"_|-|\\.\", file)[1]\n",
    "    ids.add(id)"
   ]
  },
  {
   "cell_type": "code",
   "execution_count": 22,
   "metadata": {},
   "outputs": [],
   "source": [
    "csr_test = ([id for id in csr_test if id in score_df.index])\n",
    "csr_df = score_df.loc[csr_test,:]"
   ]
  },
  {
   "cell_type": "code",
   "execution_count": 23,
   "metadata": {},
   "outputs": [
    {
     "data": {
      "text/plain": [
       "2404"
      ]
     },
     "execution_count": 23,
     "metadata": {},
     "output_type": "execute_result"
    }
   ],
   "source": [
    "len(csr_df)"
   ]
  },
  {
   "cell_type": "code",
   "execution_count": 19,
   "metadata": {},
   "outputs": [
    {
     "data": {
      "text/plain": [
       "Sales               2404\n",
       "Customer Service     189\n",
       "Name: WorkgroupQueue, dtype: int64"
      ]
     },
     "execution_count": 19,
     "metadata": {},
     "output_type": "execute_result"
    }
   ],
   "source": [
    "csr_df.WorkgroupQueue.value_counts()"
   ]
  },
  {
   "cell_type": "code",
   "execution_count": 16,
   "metadata": {},
   "outputs": [],
   "source": [
    "mv = csr_df[csr_df.WorkgroupQueue==\"Customer Service\"].index"
   ]
  },
  {
   "cell_type": "code",
   "execution_count": 17,
   "metadata": {},
   "outputs": [
    {
     "data": {
      "text/plain": [
       "189"
      ]
     },
     "execution_count": 17,
     "metadata": {},
     "output_type": "execute_result"
    }
   ],
   "source": [
    "len(mv)"
   ]
  },
  {
   "cell_type": "code",
   "execution_count": 13,
   "metadata": {},
   "outputs": [],
   "source": [
    "rem_cs_ids = set(cs_df.index).difference(ids)"
   ]
  },
  {
   "cell_type": "code",
   "execution_count": 14,
   "metadata": {},
   "outputs": [
    {
     "data": {
      "text/plain": [
       "7160"
      ]
     },
     "execution_count": 14,
     "metadata": {},
     "output_type": "execute_result"
    }
   ],
   "source": [
    "len(rem_cs_ids)"
   ]
  },
  {
   "cell_type": "code",
   "execution_count": 15,
   "metadata": {},
   "outputs": [],
   "source": [
    "for id in rem_cs_ids:\n",
    "    file = \"/mnt/transcriber/Call_Scoring/transcriptions/csr_ch/train/IRCall_\"+id+'_singlech.txt'\n",
    "    if os.path.exists(file):\n",
    "        print(\"Found file\")"
   ]
  },
  {
   "cell_type": "code",
   "execution_count": 18,
   "metadata": {},
   "outputs": [],
   "source": [
    "for id in mv:\n",
    "    file = \"/mnt/transcriber/Call_Scoring/transcriptions/csr_ch/test/IRCall_\"+id+'_singlech.txt'\n",
    "    if os.path.exists(file):\n",
    "        os.rename(file,\"/mnt/transcriber/Call_Scoring/transcriptions/csr_ch/train/IRCall_\"+id+'_singlech.txt' )"
   ]
  },
  {
   "cell_type": "code",
   "execution_count": 7,
   "metadata": {},
   "outputs": [],
   "source": [
    "ids = ([id for id in ids if id in score_df.index])\n",
    "df = score_df.loc[ids,:]"
   ]
  },
  {
   "cell_type": "code",
   "execution_count": 8,
   "metadata": {},
   "outputs": [],
   "source": [
    "cs_ids = df[df.WorkgroupQueue=='Customer Service'].index"
   ]
  },
  {
   "cell_type": "code",
   "execution_count": 9,
   "metadata": {},
   "outputs": [
    {
     "data": {
      "text/plain": [
       "2277"
      ]
     },
     "execution_count": 9,
     "metadata": {},
     "output_type": "execute_result"
    }
   ],
   "source": [
    "len(cs_ids)"
   ]
  },
  {
   "cell_type": "code",
   "execution_count": 20,
   "metadata": {},
   "outputs": [],
   "source": [
    "for id in cs_ids:\n",
    "    source = \"/mnt/transcriber/Call_Scoring/transcriptions/single_ch_b1/single_ch/\"+'IRCall_'+id+'_singlech.txt'\n",
    "    dest = \"/mnt/transcriber/Call_Scoring/transcriptions/csr_ch/train/\"+'IRCall_'+id+'_singlech.txt'\n",
    "    os.rename(source, dest)"
   ]
  },
  {
   "cell_type": "code",
   "execution_count": null,
   "metadata": {},
   "outputs": [],
   "source": []
  }
 ],
 "metadata": {
  "interpreter": {
   "hash": "a523e54b3fdc39f34f323bdf80e9503aa756936cc284ccf7dd206c125ccb4b3d"
  },
  "kernelspec": {
   "display_name": "Python 3.7.11 ('call_scoring')",
   "language": "python",
   "name": "python3"
  },
  "language_info": {
   "codemirror_mode": {
    "name": "ipython",
    "version": 3
   },
   "file_extension": ".py",
   "mimetype": "text/x-python",
   "name": "python",
   "nbconvert_exporter": "python",
   "pygments_lexer": "ipython3",
   "version": "3.7.11"
  },
  "orig_nbformat": 4
 },
 "nbformat": 4,
 "nbformat_minor": 2
}
