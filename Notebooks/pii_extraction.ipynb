{
 "cells": [
  {
   "cell_type": "code",
   "execution_count": 1,
   "metadata": {},
   "outputs": [],
   "source": [
    "import os\n",
    "java_path = r\"C:\\Program Files\\Java\\jre1.8.0_291\\bin\\java.exe\"\n",
    "os.environ['JAVAHOME'] = java_path"
   ]
  },
  {
   "cell_type": "code",
   "execution_count": 4,
   "metadata": {
    "scrolled": true
   },
   "outputs": [
    {
     "name": "stdout",
     "output_type": "stream",
     "text": [
      "Requirement already satisfied: nltk in /Users/anniehu/opt/anaconda3/lib/python3.8/site-packages (3.6.1)\r\n",
      "Requirement already satisfied: click in /Users/anniehu/opt/anaconda3/lib/python3.8/site-packages (from nltk) (7.1.2)\r\n",
      "Requirement already satisfied: regex in /Users/anniehu/opt/anaconda3/lib/python3.8/site-packages (from nltk) (2021.4.4)\r\n",
      "Requirement already satisfied: joblib in /Users/anniehu/opt/anaconda3/lib/python3.8/site-packages (from nltk) (1.0.1)\r\n",
      "Requirement already satisfied: tqdm in /Users/anniehu/opt/anaconda3/lib/python3.8/site-packages (from nltk) (4.59.0)\r\n"
     ]
    },
    {
     "name": "stderr",
     "output_type": "stream",
     "text": [
      "[nltk_data] Downloading package punkt to /Users/anniehu/nltk_data...\n",
      "[nltk_data]   Package punkt is already up-to-date!\n",
      "[nltk_data] Downloading package averaged_perceptron_tagger to\n",
      "[nltk_data]     /Users/anniehu/nltk_data...\n",
      "[nltk_data]   Package averaged_perceptron_tagger is already up-to-\n",
      "[nltk_data]       date!\n"
     ]
    },
    {
     "name": "stdout",
     "output_type": "stream",
     "text": [
      "Requirement already satisfied: spacy in /Users/anniehu/opt/anaconda3/lib/python3.8/site-packages (3.1.0)\n",
      "Requirement already satisfied: preshed<3.1.0,>=3.0.2 in /Users/anniehu/opt/anaconda3/lib/python3.8/site-packages (from spacy) (3.0.5)\n",
      "Requirement already satisfied: catalogue<2.1.0,>=2.0.4 in /Users/anniehu/opt/anaconda3/lib/python3.8/site-packages (from spacy) (2.0.4)\n",
      "Requirement already satisfied: requests<3.0.0,>=2.13.0 in /Users/anniehu/opt/anaconda3/lib/python3.8/site-packages (from spacy) (2.25.1)\n",
      "Requirement already satisfied: pydantic!=1.8,!=1.8.1,<1.9.0,>=1.7.4 in /Users/anniehu/opt/anaconda3/lib/python3.8/site-packages (from spacy) (1.8.2)\n",
      "Requirement already satisfied: jinja2 in /Users/anniehu/opt/anaconda3/lib/python3.8/site-packages (from spacy) (2.11.3)\n",
      "Requirement already satisfied: pathy>=0.3.5 in /Users/anniehu/opt/anaconda3/lib/python3.8/site-packages (from spacy) (0.6.0)\n",
      "Requirement already satisfied: numpy>=1.15.0 in /Users/anniehu/opt/anaconda3/lib/python3.8/site-packages (from spacy) (1.20.1)\n",
      "Requirement already satisfied: blis<0.8.0,>=0.4.0 in /Users/anniehu/opt/anaconda3/lib/python3.8/site-packages (from spacy) (0.7.4)\n",
      "Requirement already satisfied: tqdm<5.0.0,>=4.38.0 in /Users/anniehu/opt/anaconda3/lib/python3.8/site-packages (from spacy) (4.59.0)\n",
      "Requirement already satisfied: cymem<2.1.0,>=2.0.2 in /Users/anniehu/opt/anaconda3/lib/python3.8/site-packages (from spacy) (2.0.5)\n",
      "Requirement already satisfied: wasabi<1.1.0,>=0.8.1 in /Users/anniehu/opt/anaconda3/lib/python3.8/site-packages (from spacy) (0.8.2)\n",
      "Requirement already satisfied: setuptools in /Users/anniehu/opt/anaconda3/lib/python3.8/site-packages (from spacy) (52.0.0.post20210125)\n",
      "Requirement already satisfied: murmurhash<1.1.0,>=0.28.0 in /Users/anniehu/opt/anaconda3/lib/python3.8/site-packages (from spacy) (1.0.5)\n",
      "Requirement already satisfied: srsly<3.0.0,>=2.4.1 in /Users/anniehu/opt/anaconda3/lib/python3.8/site-packages (from spacy) (2.4.1)\n",
      "Requirement already satisfied: spacy-legacy<3.1.0,>=3.0.7 in /Users/anniehu/opt/anaconda3/lib/python3.8/site-packages (from spacy) (3.0.8)\n",
      "Requirement already satisfied: typer<0.4.0,>=0.3.0 in /Users/anniehu/opt/anaconda3/lib/python3.8/site-packages (from spacy) (0.3.2)\n",
      "Requirement already satisfied: packaging>=20.0 in /Users/anniehu/opt/anaconda3/lib/python3.8/site-packages (from spacy) (20.9)\n",
      "Requirement already satisfied: thinc<8.1.0,>=8.0.7 in /Users/anniehu/opt/anaconda3/lib/python3.8/site-packages (from spacy) (8.0.7)\n",
      "Requirement already satisfied: pyparsing>=2.0.2 in /Users/anniehu/opt/anaconda3/lib/python3.8/site-packages (from packaging>=20.0->spacy) (2.4.7)\n",
      "Requirement already satisfied: smart-open<6.0.0,>=5.0.0 in /Users/anniehu/opt/anaconda3/lib/python3.8/site-packages (from pathy>=0.3.5->spacy) (5.1.0)\n",
      "Requirement already satisfied: typing-extensions>=3.7.4.3 in /Users/anniehu/opt/anaconda3/lib/python3.8/site-packages (from pydantic!=1.8,!=1.8.1,<1.9.0,>=1.7.4->spacy) (3.7.4.3)\n",
      "Requirement already satisfied: urllib3<1.27,>=1.21.1 in /Users/anniehu/opt/anaconda3/lib/python3.8/site-packages (from requests<3.0.0,>=2.13.0->spacy) (1.26.4)\n",
      "Requirement already satisfied: certifi>=2017.4.17 in /Users/anniehu/opt/anaconda3/lib/python3.8/site-packages (from requests<3.0.0,>=2.13.0->spacy) (2020.12.5)\n",
      "Requirement already satisfied: idna<3,>=2.5 in /Users/anniehu/opt/anaconda3/lib/python3.8/site-packages (from requests<3.0.0,>=2.13.0->spacy) (2.10)\n",
      "Requirement already satisfied: chardet<5,>=3.0.2 in /Users/anniehu/opt/anaconda3/lib/python3.8/site-packages (from requests<3.0.0,>=2.13.0->spacy) (4.0.0)\n",
      "Requirement already satisfied: click<7.2.0,>=7.1.1 in /Users/anniehu/opt/anaconda3/lib/python3.8/site-packages (from typer<0.4.0,>=0.3.0->spacy) (7.1.2)\n",
      "Requirement already satisfied: MarkupSafe>=0.23 in /Users/anniehu/opt/anaconda3/lib/python3.8/site-packages (from jinja2->spacy) (1.1.1)\n",
      "Requirement already satisfied: truecase in /Users/anniehu/opt/anaconda3/lib/python3.8/site-packages (0.0.14)\n",
      "Requirement already satisfied: nltk in /Users/anniehu/opt/anaconda3/lib/python3.8/site-packages (from truecase) (3.6.1)\n",
      "Requirement already satisfied: tqdm in /Users/anniehu/opt/anaconda3/lib/python3.8/site-packages (from nltk->truecase) (4.59.0)\n",
      "Requirement already satisfied: regex in /Users/anniehu/opt/anaconda3/lib/python3.8/site-packages (from nltk->truecase) (2021.4.4)\n",
      "Requirement already satisfied: joblib in /Users/anniehu/opt/anaconda3/lib/python3.8/site-packages (from nltk->truecase) (1.0.1)\n",
      "Requirement already satisfied: click in /Users/anniehu/opt/anaconda3/lib/python3.8/site-packages (from nltk->truecase) (7.1.2)\n"
     ]
    }
   ],
   "source": [
    "import nltk\n",
    "nltk.download('punkt')\n",
    "nltk.download('averaged_perceptron_tagger')\n",
    "from nltk.tag import StanfordNERTagger\n",
    "from nltk.tokenize import word_tokenize, sent_tokenize,WordPunctTokenizer\n",
    "st = StanfordNERTagger('/Users/anniehu/Downloads/english.muc.7class.caseless.distsim.crf.ser.gz',\n",
    "\t\t\t\t\t   '/Users/anniehu/Downloads/stanford-ner-2020-11-17/stanford-ner.jar',\n",
    "\t\t\t\t\t   encoding='utf-8')\n",
    "import os\n",
    "import spacy\n",
    "nlp = spacy.load(\"en_core_web_sm\")\n",
    "import truecase"
   ]
  },
  {
   "cell_type": "code",
   "execution_count": 5,
   "metadata": {},
   "outputs": [],
   "source": [
    "def append_multiple_lines(file_name, lines_to_append):\n",
    "    # Open the file in append & read mode ('a+')\n",
    "    with open(file_name, \"a+\") as file_object:\n",
    "        appendEOL = False\n",
    "        # Move read cursor to the start of file.\n",
    "        file_object.seek(0)\n",
    "        # Check if file is not empty\n",
    "        data = file_object.read(100)\n",
    "        if len(data) > 0:\n",
    "            appendEOL = True\n",
    "        # Iterate over each string in the list\n",
    "        for line in lines_to_append:\n",
    "            # If file is not empty then append '\\n' before first line for\n",
    "            # other lines always append '\\n' before appending line\n",
    "            if appendEOL == True:\n",
    "                file_object.write(\"\\n\")\n",
    "            else:\n",
    "                appendEOL = True\n",
    "            # Append element at the end of file\n",
    "            file_object.write(line)\n",
    "        file_object.close()"
   ]
  },
  {
   "cell_type": "code",
   "execution_count": 63,
   "metadata": {},
   "outputs": [
    {
     "name": "stdout",
     "output_type": "stream",
     "text": [
      "Text: /Users/anniehu/Documents/manual_score_transcriptions/spacy_test//IRCall_100161076730210103.txt\n",
      "--- 0.4046902656555176 seconds ---\n"
     ]
    }
   ],
   "source": [
    "import time\n",
    "start_time = time.time()\n",
    "count=0\n",
    "dir = r\"/Users/anniehu/Documents/manual_score_transcriptions/spacy_test\"\n",
    "for file in os.listdir(dir):\n",
    "    if file.endswith('.txt'):\n",
    "        file_loc = dir + '//' + file\n",
    "        f = open(file_loc, 'r')\n",
    "        tscpt = f.read()\n",
    "        f.close()\n",
    "        sent = sent_tokenize(tscpt)\n",
    "        print('Text: {}'.format(file_loc))\n",
    "        sent_arr= []\n",
    "        for sentence in sent:\n",
    "            words = WordPunctTokenizer().tokenize(sentence)\n",
    "            spans = list(WordPunctTokenizer().span_tokenize(sentence))\n",
    "            new_sent = ' '.join(words)\n",
    "            new_sent = truecase.get_true_case(new_sent)\n",
    "            doc = nlp(new_sent)\n",
    "            for token in doc:\n",
    "                if token.pos_ == \"NUM\":\n",
    "                    new_sent = new_sent.replace(token.text, \"<num>\")\n",
    "            for ent in doc.ents:\n",
    "                if ent.label_ == \"GPE\":\n",
    "                    new_sent = new_sent.replace(ent.text, \"<gpe>\")\n",
    "                if ent.label_ == \"ORG\":\n",
    "                    new_sent = new_sent.replace(ent.text, \"<org>\")\n",
    "                if ent.label_ == \"MONEY\":\n",
    "                    new_sent = new_sent.replace(ent.text, \"<money>\")\n",
    "                if ent.label_ == \"PERSON\":\n",
    "                    new_sent = new_sent.replace(ent.text, \"<per>\")\n",
    "                if ent.label_ == \"PRODUCT\":\n",
    "                    new_sent = new_sent.replace(ent.text, \"<prod>\")\n",
    "            sent_arr.append(new_sent)\n",
    "        dest = r'/Users/anniehu/Documents/manual_score_transcriptions/spacy_test/cleaned_spacy_test'+ '/' + file\n",
    "        append_multiple_lines(dest, sent_arr)\n",
    "        count = count +1\n",
    "        if count == 1:\n",
    "            break\n",
    "print(\"--- %s seconds ---\" % (time.time() - start_time))"
   ]
  },
  {
   "cell_type": "code",
   "execution_count": 62,
   "metadata": {},
   "outputs": [
    {
     "name": "stdout",
     "output_type": "stream",
     "text": [
      "PERSON\n",
      "Donald\n"
     ]
    }
   ],
   "source": [
    "mysent = \"He's Donald she okay not a problem she' ll be very glad to help Yeah shall we already have me active \"\n",
    "spaccyyy = nlp(mysent)\n",
    "for ent in spaccyyy.ents:\n",
    "    print(ent.label_)\n",
    "    print(ent.text)"
   ]
  }
 ],
 "metadata": {
  "kernelspec": {
   "display_name": "Python 3",
   "language": "python",
   "name": "python3"
  },
  "language_info": {
   "codemirror_mode": {
    "name": "ipython",
    "version": 3
   },
   "file_extension": ".py",
   "mimetype": "text/x-python",
   "name": "python",
   "nbconvert_exporter": "python",
   "pygments_lexer": "ipython3",
   "version": "3.8.5"
  }
 },
 "nbformat": 4,
 "nbformat_minor": 4
}
